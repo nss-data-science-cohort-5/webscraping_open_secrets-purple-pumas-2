{
 "cells": [
  {
   "cell_type": "code",
   "execution_count": 23,
   "id": "cd34c46d",
   "metadata": {},
   "outputs": [],
   "source": [
    "import pandas as pd\n",
    "import numpy as np\n",
    "import matplotlib as plt\n",
    "import re\n",
    "import seaborn as sns"
   ]
  },
  {
   "cell_type": "code",
   "execution_count": 2,
   "id": "adb153aa",
   "metadata": {
    "scrolled": true
   },
   "outputs": [
    {
     "data": {
      "text/html": [
       "<div>\n",
       "<style scoped>\n",
       "    .dataframe tbody tr th:only-of-type {\n",
       "        vertical-align: middle;\n",
       "    }\n",
       "\n",
       "    .dataframe tbody tr th {\n",
       "        vertical-align: top;\n",
       "    }\n",
       "\n",
       "    .dataframe thead th {\n",
       "        text-align: right;\n",
       "    }\n",
       "</style>\n",
       "<table border=\"1\" class=\"dataframe\">\n",
       "  <thead>\n",
       "    <tr style=\"text-align: right;\">\n",
       "      <th></th>\n",
       "      <th>Candidate_name</th>\n",
       "      <th>Party</th>\n",
       "      <th>Incumbent</th>\n",
       "      <th>Winner</th>\n",
       "      <th>Raised</th>\n",
       "      <th>Spent</th>\n",
       "      <th>Cash on Hand</th>\n",
       "      <th>state</th>\n",
       "    </tr>\n",
       "  </thead>\n",
       "  <tbody>\n",
       "    <tr>\n",
       "      <th>0</th>\n",
       "      <td>Jerry Carl</td>\n",
       "      <td>(R)</td>\n",
       "      <td>False</td>\n",
       "      <td>True</td>\n",
       "      <td>$1,971,321</td>\n",
       "      <td>$1,859,349</td>\n",
       "      <td>$111,973</td>\n",
       "      <td>AL01</td>\n",
       "    </tr>\n",
       "    <tr>\n",
       "      <th>1</th>\n",
       "      <td>James Averhart</td>\n",
       "      <td>(D)</td>\n",
       "      <td>False</td>\n",
       "      <td>False</td>\n",
       "      <td>$80,095</td>\n",
       "      <td>$78,973</td>\n",
       "      <td>$1,122</td>\n",
       "      <td>AL01</td>\n",
       "    </tr>\n",
       "    <tr>\n",
       "      <th>2</th>\n",
       "      <td>Barry Moore</td>\n",
       "      <td>(R)</td>\n",
       "      <td>False</td>\n",
       "      <td>True</td>\n",
       "      <td>$650,807</td>\n",
       "      <td>$669,368</td>\n",
       "      <td>-$13,633</td>\n",
       "      <td>AL02</td>\n",
       "    </tr>\n",
       "    <tr>\n",
       "      <th>3</th>\n",
       "      <td>Phyllis Harvey</td>\n",
       "      <td>(D)</td>\n",
       "      <td>False</td>\n",
       "      <td>False</td>\n",
       "      <td>$56,050</td>\n",
       "      <td>$55,988</td>\n",
       "      <td>$0</td>\n",
       "      <td>AL02</td>\n",
       "    </tr>\n",
       "    <tr>\n",
       "      <th>4</th>\n",
       "      <td>Mike D</td>\n",
       "      <td>D</td>\n",
       "      <td>True</td>\n",
       "      <td>True</td>\n",
       "      <td>$1,193,111</td>\n",
       "      <td>$1,218,564</td>\n",
       "      <td>$502,234</td>\n",
       "      <td>AL03</td>\n",
       "    </tr>\n",
       "  </tbody>\n",
       "</table>\n",
       "</div>"
      ],
      "text/plain": [
       "   Candidate_name Party  Incumbent  Winner      Raised       Spent  \\\n",
       "0      Jerry Carl   (R)      False    True  $1,971,321  $1,859,349   \n",
       "1  James Averhart   (D)      False   False     $80,095     $78,973   \n",
       "2     Barry Moore   (R)      False    True    $650,807    $669,368   \n",
       "3  Phyllis Harvey   (D)      False   False     $56,050     $55,988   \n",
       "4          Mike D    D        True    True  $1,193,111  $1,218,564   \n",
       "\n",
       "  Cash on Hand state  \n",
       "0     $111,973  AL01  \n",
       "1       $1,122  AL01  \n",
       "2     -$13,633  AL02  \n",
       "3           $0  AL02  \n",
       "4     $502,234  AL03  "
      ]
     },
     "execution_count": 2,
     "metadata": {},
     "output_type": "execute_result"
    }
   ],
   "source": [
    "US_house_data = pd.read_csv('../webscraping_open_secrets-purple-pumas-2/data/all_states.csv')\n",
    "\n",
    "US_house_data.head()"
   ]
  },
  {
   "cell_type": "code",
   "execution_count": 3,
   "id": "98aec437",
   "metadata": {},
   "outputs": [
    {
     "name": "stdout",
     "output_type": "stream",
     "text": [
      "<class 'pandas.core.frame.DataFrame'>\n",
      "RangeIndex: 887 entries, 0 to 886\n",
      "Data columns (total 8 columns):\n",
      " #   Column          Non-Null Count  Dtype \n",
      "---  ------          --------------  ----- \n",
      " 0   Candidate_name  886 non-null    object\n",
      " 1   Party           887 non-null    object\n",
      " 2   Incumbent       887 non-null    bool  \n",
      " 3   Winner          887 non-null    bool  \n",
      " 4   Raised          887 non-null    object\n",
      " 5   Spent           887 non-null    object\n",
      " 6   Cash on Hand    887 non-null    object\n",
      " 7   state           887 non-null    object\n",
      "dtypes: bool(2), object(6)\n",
      "memory usage: 43.4+ KB\n"
     ]
    }
   ],
   "source": [
    "US_house_data.info()"
   ]
  },
  {
   "cell_type": "code",
   "execution_count": 4,
   "id": "45de521b",
   "metadata": {
    "scrolled": true
   },
   "outputs": [
    {
     "name": "stdout",
     "output_type": "stream",
     "text": [
      "<class 'pandas.core.frame.DataFrame'>\n",
      "RangeIndex: 887 entries, 0 to 886\n",
      "Data columns (total 8 columns):\n",
      " #   Column          Non-Null Count  Dtype \n",
      "---  ------          --------------  ----- \n",
      " 0   Candidate_name  886 non-null    object\n",
      " 1   Party           887 non-null    object\n",
      " 2   Incumbent       887 non-null    bool  \n",
      " 3   Winner          887 non-null    bool  \n",
      " 4   Raised          887 non-null    int64 \n",
      " 5   Spent           887 non-null    int64 \n",
      " 6   Cash on Hand    887 non-null    int64 \n",
      " 7   state           887 non-null    object\n",
      "dtypes: bool(2), int64(3), object(3)\n",
      "memory usage: 43.4+ KB\n"
     ]
    },
    {
     "name": "stderr",
     "output_type": "stream",
     "text": [
      "<ipython-input-4-c2d21d258ba3>:1: FutureWarning: The default value of regex will change from True to False in a future version.\n",
      "  US_house_data['Raised'] = US_house_data['Raised'].str.replace('\\W', '')\n",
      "<ipython-input-4-c2d21d258ba3>:2: FutureWarning: The default value of regex will change from True to False in a future version.\n",
      "  US_house_data['Spent'] = US_house_data['Spent'].str.replace('\\W', '')\n",
      "<ipython-input-4-c2d21d258ba3>:3: FutureWarning: The default value of regex will change from True to False in a future version.\n",
      "  US_house_data['Cash on Hand'] = US_house_data['Cash on Hand'].str.replace('\\W', '')\n"
     ]
    }
   ],
   "source": [
    "US_house_data['Raised'] = US_house_data['Raised'].str.replace('\\W', '')\n",
    "US_house_data['Spent'] = US_house_data['Spent'].str.replace('\\W', '')\n",
    "US_house_data['Cash on Hand'] = US_house_data['Cash on Hand'].str.replace('\\W', '')\n",
    "US_house_data['Raised'] = US_house_data['Raised'].astype(int)\n",
    "US_house_data['Spent'] = US_house_data['Spent'].astype(int)\n",
    "US_house_data['Cash on Hand'] = US_house_data['Cash on Hand'].astype(int)\n",
    "\n",
    "US_house_data.info()"
   ]
  },
  {
   "cell_type": "code",
   "execution_count": 5,
   "id": "fd37bc22",
   "metadata": {},
   "outputs": [
    {
     "data": {
      "text/html": [
       "<div>\n",
       "<style scoped>\n",
       "    .dataframe tbody tr th:only-of-type {\n",
       "        vertical-align: middle;\n",
       "    }\n",
       "\n",
       "    .dataframe tbody tr th {\n",
       "        vertical-align: top;\n",
       "    }\n",
       "\n",
       "    .dataframe thead th {\n",
       "        text-align: right;\n",
       "    }\n",
       "</style>\n",
       "<table border=\"1\" class=\"dataframe\">\n",
       "  <thead>\n",
       "    <tr style=\"text-align: right;\">\n",
       "      <th></th>\n",
       "      <th>Candidate_name</th>\n",
       "      <th>Party</th>\n",
       "      <th>Incumbent</th>\n",
       "      <th>Winner</th>\n",
       "      <th>Raised</th>\n",
       "      <th>Spent</th>\n",
       "      <th>Cash on Hand</th>\n",
       "      <th>state</th>\n",
       "    </tr>\n",
       "  </thead>\n",
       "  <tbody>\n",
       "    <tr>\n",
       "      <th>0</th>\n",
       "      <td>Jerry Carl</td>\n",
       "      <td>(R)</td>\n",
       "      <td>False</td>\n",
       "      <td>True</td>\n",
       "      <td>1971321</td>\n",
       "      <td>1859349</td>\n",
       "      <td>111973</td>\n",
       "      <td>AL01</td>\n",
       "    </tr>\n",
       "    <tr>\n",
       "      <th>1</th>\n",
       "      <td>James Averhart</td>\n",
       "      <td>(D)</td>\n",
       "      <td>False</td>\n",
       "      <td>False</td>\n",
       "      <td>80095</td>\n",
       "      <td>78973</td>\n",
       "      <td>1122</td>\n",
       "      <td>AL01</td>\n",
       "    </tr>\n",
       "    <tr>\n",
       "      <th>2</th>\n",
       "      <td>Barry Moore</td>\n",
       "      <td>(R)</td>\n",
       "      <td>False</td>\n",
       "      <td>True</td>\n",
       "      <td>650807</td>\n",
       "      <td>669368</td>\n",
       "      <td>13633</td>\n",
       "      <td>AL02</td>\n",
       "    </tr>\n",
       "    <tr>\n",
       "      <th>3</th>\n",
       "      <td>Phyllis Harvey</td>\n",
       "      <td>(D)</td>\n",
       "      <td>False</td>\n",
       "      <td>False</td>\n",
       "      <td>56050</td>\n",
       "      <td>55988</td>\n",
       "      <td>0</td>\n",
       "      <td>AL02</td>\n",
       "    </tr>\n",
       "    <tr>\n",
       "      <th>4</th>\n",
       "      <td>Mike D</td>\n",
       "      <td>D</td>\n",
       "      <td>True</td>\n",
       "      <td>True</td>\n",
       "      <td>1193111</td>\n",
       "      <td>1218564</td>\n",
       "      <td>502234</td>\n",
       "      <td>AL03</td>\n",
       "    </tr>\n",
       "    <tr>\n",
       "      <th>...</th>\n",
       "      <td>...</td>\n",
       "      <td>...</td>\n",
       "      <td>...</td>\n",
       "      <td>...</td>\n",
       "      <td>...</td>\n",
       "      <td>...</td>\n",
       "      <td>...</td>\n",
       "      <td>...</td>\n",
       "    </tr>\n",
       "    <tr>\n",
       "      <th>882</th>\n",
       "      <td>Carol Miller</td>\n",
       "      <td>(R)</td>\n",
       "      <td>True</td>\n",
       "      <td>True</td>\n",
       "      <td>869210</td>\n",
       "      <td>720796</td>\n",
       "      <td>167007</td>\n",
       "      <td>WV03</td>\n",
       "    </tr>\n",
       "    <tr>\n",
       "      <th>883</th>\n",
       "      <td>Hilary Turner</td>\n",
       "      <td>(D)</td>\n",
       "      <td>False</td>\n",
       "      <td>False</td>\n",
       "      <td>99214</td>\n",
       "      <td>98769</td>\n",
       "      <td>446</td>\n",
       "      <td>WV03</td>\n",
       "    </tr>\n",
       "    <tr>\n",
       "      <th>884</th>\n",
       "      <td>Belinda Fox</td>\n",
       "      <td>(I)</td>\n",
       "      <td>False</td>\n",
       "      <td>False</td>\n",
       "      <td>5207</td>\n",
       "      <td>5207</td>\n",
       "      <td>0</td>\n",
       "      <td>WV03</td>\n",
       "    </tr>\n",
       "    <tr>\n",
       "      <th>885</th>\n",
       "      <td>Liz Cheney</td>\n",
       "      <td>(R)</td>\n",
       "      <td>True</td>\n",
       "      <td>True</td>\n",
       "      <td>3003883</td>\n",
       "      <td>3060167</td>\n",
       "      <td>153567</td>\n",
       "      <td>WY01</td>\n",
       "    </tr>\n",
       "    <tr>\n",
       "      <th>886</th>\n",
       "      <td>Lynnette Grey</td>\n",
       "      <td>(D)</td>\n",
       "      <td>False</td>\n",
       "      <td>False</td>\n",
       "      <td>134597</td>\n",
       "      <td>132235</td>\n",
       "      <td>2363</td>\n",
       "      <td>WY01</td>\n",
       "    </tr>\n",
       "  </tbody>\n",
       "</table>\n",
       "<p>887 rows × 8 columns</p>\n",
       "</div>"
      ],
      "text/plain": [
       "     Candidate_name Party  Incumbent  Winner   Raised    Spent  Cash on Hand  \\\n",
       "0        Jerry Carl   (R)      False    True  1971321  1859349        111973   \n",
       "1    James Averhart   (D)      False   False    80095    78973          1122   \n",
       "2       Barry Moore   (R)      False    True   650807   669368         13633   \n",
       "3    Phyllis Harvey   (D)      False   False    56050    55988             0   \n",
       "4            Mike D    D        True    True  1193111  1218564        502234   \n",
       "..              ...   ...        ...     ...      ...      ...           ...   \n",
       "882    Carol Miller   (R)       True    True   869210   720796        167007   \n",
       "883   Hilary Turner   (D)      False   False    99214    98769           446   \n",
       "884     Belinda Fox   (I)      False   False     5207     5207             0   \n",
       "885      Liz Cheney   (R)       True    True  3003883  3060167        153567   \n",
       "886   Lynnette Grey   (D)      False   False   134597   132235          2363   \n",
       "\n",
       "    state  \n",
       "0    AL01  \n",
       "1    AL01  \n",
       "2    AL02  \n",
       "3    AL02  \n",
       "4    AL03  \n",
       "..    ...  \n",
       "882  WV03  \n",
       "883  WV03  \n",
       "884  WV03  \n",
       "885  WY01  \n",
       "886  WY01  \n",
       "\n",
       "[887 rows x 8 columns]"
      ]
     },
     "execution_count": 5,
     "metadata": {},
     "output_type": "execute_result"
    }
   ],
   "source": [
    "US_house_data"
   ]
  },
  {
   "cell_type": "code",
   "execution_count": 6,
   "id": "27209449",
   "metadata": {},
   "outputs": [
    {
     "data": {
      "text/plain": [
       "1664000074"
      ]
     },
     "execution_count": 6,
     "metadata": {},
     "output_type": "execute_result"
    }
   ],
   "source": [
    "US_house_data['Raised'].sum()"
   ]
  },
  {
   "cell_type": "code",
   "execution_count": 7,
   "id": "f76a8ccc",
   "metadata": {},
   "outputs": [
    {
     "data": {
      "text/plain": [
       "1503080240"
      ]
     },
     "execution_count": 7,
     "metadata": {},
     "output_type": "execute_result"
    }
   ],
   "source": [
    "US_house_data['Spent'].sum()"
   ]
  },
  {
   "cell_type": "code",
   "execution_count": 8,
   "id": "2e9871ee",
   "metadata": {},
   "outputs": [
    {
     "data": {
      "text/plain": [
       "363186940"
      ]
     },
     "execution_count": 8,
     "metadata": {},
     "output_type": "execute_result"
    }
   ],
   "source": [
    "US_house_data['Cash on Hand'].sum()"
   ]
  },
  {
   "cell_type": "code",
   "execution_count": 9,
   "id": "1fd0fecb",
   "metadata": {},
   "outputs": [],
   "source": [
    "diff_raised_spent = US_house_data['Raised'].sum()-US_house_data['Spent'].sum()"
   ]
  },
  {
   "cell_type": "code",
   "execution_count": 10,
   "id": "9163bd6b",
   "metadata": {},
   "outputs": [
    {
     "data": {
      "text/plain": [
       "202267106"
      ]
     },
     "execution_count": 10,
     "metadata": {},
     "output_type": "execute_result"
    }
   ],
   "source": [
    "US_house_data['Cash on Hand'].sum()-diff_raised_spent"
   ]
  },
  {
   "cell_type": "code",
   "execution_count": 17,
   "id": "fe0e7f34",
   "metadata": {
    "scrolled": false
   },
   "outputs": [
    {
     "data": {
      "text/html": [
       "<div>\n",
       "<style scoped>\n",
       "    .dataframe tbody tr th:only-of-type {\n",
       "        vertical-align: middle;\n",
       "    }\n",
       "\n",
       "    .dataframe tbody tr th {\n",
       "        vertical-align: top;\n",
       "    }\n",
       "\n",
       "    .dataframe thead th {\n",
       "        text-align: right;\n",
       "    }\n",
       "</style>\n",
       "<table border=\"1\" class=\"dataframe\">\n",
       "  <thead>\n",
       "    <tr style=\"text-align: right;\">\n",
       "      <th></th>\n",
       "      <th>Candidate_name</th>\n",
       "      <th>Party</th>\n",
       "      <th>Incumbent</th>\n",
       "      <th>Winner</th>\n",
       "      <th>Raised</th>\n",
       "      <th>Spent</th>\n",
       "      <th>Cash on Hand</th>\n",
       "      <th>state</th>\n",
       "    </tr>\n",
       "  </thead>\n",
       "  <tbody>\n",
       "    <tr>\n",
       "      <th>354</th>\n",
       "      <td>Steve Scalise</td>\n",
       "      <td>(R)</td>\n",
       "      <td>True</td>\n",
       "      <td>True</td>\n",
       "      <td>37262827</td>\n",
       "      <td>32830607</td>\n",
       "      <td>6217720</td>\n",
       "      <td>LA01</td>\n",
       "    </tr>\n",
       "    <tr>\n",
       "      <th>80</th>\n",
       "      <td>Kevin McCarthy</td>\n",
       "      <td>(R)</td>\n",
       "      <td>True</td>\n",
       "      <td>True</td>\n",
       "      <td>27780644</td>\n",
       "      <td>24265583</td>\n",
       "      <td>4802133</td>\n",
       "      <td>CA23</td>\n",
       "    </tr>\n",
       "    <tr>\n",
       "      <th>60</th>\n",
       "      <td>Nancy Pelosi</td>\n",
       "      <td>(D)</td>\n",
       "      <td>True</td>\n",
       "      <td>True</td>\n",
       "      <td>27359508</td>\n",
       "      <td>22064953</td>\n",
       "      <td>6299373</td>\n",
       "      <td>CA12</td>\n",
       "    </tr>\n",
       "    <tr>\n",
       "      <th>78</th>\n",
       "      <td>Devin Nunes</td>\n",
       "      <td>(R)</td>\n",
       "      <td>True</td>\n",
       "      <td>True</td>\n",
       "      <td>26825212</td>\n",
       "      <td>20156093</td>\n",
       "      <td>10908033</td>\n",
       "      <td>CA22</td>\n",
       "    </tr>\n",
       "    <tr>\n",
       "      <th>545</th>\n",
       "      <td>Alexandria Ocasio</td>\n",
       "      <td>(D)</td>\n",
       "      <td>True</td>\n",
       "      <td>True</td>\n",
       "      <td>20664795</td>\n",
       "      <td>16735422</td>\n",
       "      <td>4297383</td>\n",
       "      <td>NY14</td>\n",
       "    </tr>\n",
       "    <tr>\n",
       "      <th>730</th>\n",
       "      <td>Dan Crenshaw</td>\n",
       "      <td>(R)</td>\n",
       "      <td>True</td>\n",
       "      <td>True</td>\n",
       "      <td>19427865</td>\n",
       "      <td>17596329</td>\n",
       "      <td>1852715</td>\n",
       "      <td>TX02</td>\n",
       "    </tr>\n",
       "    <tr>\n",
       "      <th>90</th>\n",
       "      <td>Adam Schiff</td>\n",
       "      <td>(D)</td>\n",
       "      <td>True</td>\n",
       "      <td>True</td>\n",
       "      <td>19382855</td>\n",
       "      <td>10188664</td>\n",
       "      <td>13908271</td>\n",
       "      <td>CA28</td>\n",
       "    </tr>\n",
       "    <tr>\n",
       "      <th>609</th>\n",
       "      <td>Jim Jordan</td>\n",
       "      <td>(R)</td>\n",
       "      <td>True</td>\n",
       "      <td>True</td>\n",
       "      <td>18313823</td>\n",
       "      <td>12945651</td>\n",
       "      <td>6113812</td>\n",
       "      <td>OH04</td>\n",
       "    </tr>\n",
       "    <tr>\n",
       "      <th>121</th>\n",
       "      <td>Katie Porter</td>\n",
       "      <td>(D)</td>\n",
       "      <td>True</td>\n",
       "      <td>True</td>\n",
       "      <td>16627706</td>\n",
       "      <td>6443700</td>\n",
       "      <td>10267752</td>\n",
       "      <td>CA45</td>\n",
       "    </tr>\n",
       "    <tr>\n",
       "      <th>559</th>\n",
       "      <td>Elise Stefanik</td>\n",
       "      <td>(R)</td>\n",
       "      <td>True</td>\n",
       "      <td>True</td>\n",
       "      <td>13287248</td>\n",
       "      <td>11655936</td>\n",
       "      <td>1983541</td>\n",
       "      <td>NY21</td>\n",
       "    </tr>\n",
       "  </tbody>\n",
       "</table>\n",
       "</div>"
      ],
      "text/plain": [
       "        Candidate_name Party  Incumbent  Winner    Raised     Spent  \\\n",
       "354      Steve Scalise   (R)       True    True  37262827  32830607   \n",
       "80      Kevin McCarthy   (R)       True    True  27780644  24265583   \n",
       "60        Nancy Pelosi   (D)       True    True  27359508  22064953   \n",
       "78         Devin Nunes   (R)       True    True  26825212  20156093   \n",
       "545  Alexandria Ocasio   (D)       True    True  20664795  16735422   \n",
       "730       Dan Crenshaw   (R)       True    True  19427865  17596329   \n",
       "90         Adam Schiff   (D)       True    True  19382855  10188664   \n",
       "609         Jim Jordan   (R)       True    True  18313823  12945651   \n",
       "121       Katie Porter   (D)       True    True  16627706   6443700   \n",
       "559     Elise Stefanik   (R)       True    True  13287248  11655936   \n",
       "\n",
       "     Cash on Hand state  \n",
       "354       6217720  LA01  \n",
       "80        4802133  CA23  \n",
       "60        6299373  CA12  \n",
       "78       10908033  CA22  \n",
       "545       4297383  NY14  \n",
       "730       1852715  TX02  \n",
       "90       13908271  CA28  \n",
       "609       6113812  OH04  \n",
       "121      10267752  CA45  \n",
       "559       1983541  NY21  "
      ]
     },
     "execution_count": 17,
     "metadata": {},
     "output_type": "execute_result"
    }
   ],
   "source": [
    "US_house_data.sort_values(\"Raised\", ascending = False).head(10)"
   ]
  },
  {
   "cell_type": "markdown",
   "id": "1c0eed79",
   "metadata": {},
   "source": [
    "Lots of overlap between high raisers and their public profile. I recognize every name on this list"
   ]
  },
  {
   "cell_type": "code",
   "execution_count": 12,
   "id": "094c5af4",
   "metadata": {
    "scrolled": false
   },
   "outputs": [
    {
     "data": {
      "text/plain": [
       "Incumbent  Winner\n",
       "False      False     0.880952\n",
       "           True      0.119048\n",
       "True       True      0.960836\n",
       "           False     0.039164\n",
       "Name: Winner, dtype: float64"
      ]
     },
     "execution_count": 12,
     "metadata": {},
     "output_type": "execute_result"
    }
   ],
   "source": [
    "US_house_data.groupby('Incumbent')['Winner'].value_counts(normalize = True)"
   ]
  },
  {
   "cell_type": "code",
   "execution_count": 13,
   "id": "798ea1cf",
   "metadata": {
    "scrolled": true
   },
   "outputs": [
    {
     "data": {
      "text/plain": [
       "886"
      ]
     },
     "execution_count": 13,
     "metadata": {},
     "output_type": "execute_result"
    }
   ],
   "source": [
    "US_house_data[\"Candidate_name\"].value_counts().sum()"
   ]
  },
  {
   "cell_type": "code",
   "execution_count": 41,
   "id": "d1fe9d93",
   "metadata": {},
   "outputs": [
    {
     "data": {
      "image/png": "[encoded data removed]",
      "text/plain": [
       "<Figure size 432x288 with 1 Axes>"
      ]
     },
     "metadata": {
      "needs_background": "light"
     },
     "output_type": "display_data"
    }
   ],
   "source": [
    "sns.boxplot(data = US_house_data[['Raised','Spent','Cash on Hand']]);"
   ]
  }
 ],
 "metadata": {
  "kernelspec": {
   "display_name": "Python 3",
   "language": "python",
   "name": "python3"
  },
  "language_info": {
   "codemirror_mode": {
    "name": "ipython",
    "version": 3
   },
   "file_extension": ".py",
   "mimetype": "text/x-python",
   "name": "python",
   "nbconvert_exporter": "python",
   "pygments_lexer": "ipython3",
   "version": "3.8.8"
  }
 },
 "nbformat": 4,
 "nbformat_minor": 5
}
