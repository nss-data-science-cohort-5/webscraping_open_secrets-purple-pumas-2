{
 "cells": [
  {
   "cell_type": "code",
   "execution_count": 52,
   "id": "82254baf",
   "metadata": {},
   "outputs": [],
   "source": [
    "import requests\n",
    "from bs4 import BeautifulSoup as BS\n",
    "import pandas as pd\n",
    "import re"
   ]
  },
  {
   "cell_type": "code",
   "execution_count": null,
   "id": "3fe1b646",
   "metadata": {},
   "outputs": [],
   "source": [
    "def get_district_info(district) \n",
    "'https://www.opensecrets.org/races/summary?cycle=2020&id={states}{district_num}&spec=N'"
   ]
  },
  {
   "cell_type": "code",
   "execution_count": 28,
   "id": "93929e17",
   "metadata": {},
   "outputs": [],
   "source": [
    "url = 'https://www.opensecrets.org/races/summary?cycle=2020&id=TN02&spec=N'\n",
    "response = requests.get(url)\n",
    "soup = BS(response.text, 'html.parser')\n",
    "district_html = soup.select('table')[0]\n",
    "district = pd.read_html(str(district_html))[0]"
   ]
  },
  {
   "cell_type": "code",
   "execution_count": 127,
   "id": "7d293f2b",
   "metadata": {},
   "outputs": [],
   "source": [
    "def get_district_info(district):\n",
    "    district['Name'] = district['Candidate'].str.extract(r'([A-Za-z]+\\s[A-Za-z]+)')\n",
    "    district['Party'] = district['Candidate'].str.extract(r'(\\(\\w{1}\\))')\n",
    "    district['State'] = re.search(r'(id=)(\\w{2})', url)[2]\n",
    "    district['District'] = re.search(r'(id=\\w{2})(\\d{2})', url)[2]\n",
    "    district['Incumbent'] = district['Candidate'].str.extract(r'(Incumbent)')\n",
    "    district['Winner'] = district['Candidate'].str.extract(r'(Winner)')\n",
    "    district = district.replace(('Incumbent', 'Winner'), ('Yes', 'Yes'))\n",
    "    district = district.fillna('No')\n",
    "    district = get_district_info(district)\n",
    "    return district"
   ]
  },
  {
   "cell_type": "code",
   "execution_count": 128,
   "id": "ba780a3f",
   "metadata": {},
   "outputs": [
    {
     "data": {
      "text/html": [
       "<div>\n",
       "<style scoped>\n",
       "    .dataframe tbody tr th:only-of-type {\n",
       "        vertical-align: middle;\n",
       "    }\n",
       "\n",
       "    .dataframe tbody tr th {\n",
       "        vertical-align: top;\n",
       "    }\n",
       "\n",
       "    .dataframe thead th {\n",
       "        text-align: right;\n",
       "    }\n",
       "</style>\n",
       "<table border=\"1\" class=\"dataframe\">\n",
       "  <thead>\n",
       "    <tr style=\"text-align: right;\">\n",
       "      <th></th>\n",
       "      <th>Candidate</th>\n",
       "      <th>Raised</th>\n",
       "      <th>Spent</th>\n",
       "      <th>Cash on Hand</th>\n",
       "      <th>Last Report</th>\n",
       "      <th>Name</th>\n",
       "      <th>Party</th>\n",
       "      <th>State</th>\n",
       "      <th>District</th>\n",
       "      <th>Incumbent</th>\n",
       "      <th>Winner</th>\n",
       "    </tr>\n",
       "  </thead>\n",
       "  <tbody>\n",
       "    <tr>\n",
       "      <th>0</th>\n",
       "      <td>Tim Burchett (R)  • Incumbent • Winner</td>\n",
       "      <td>$1,336,276</td>\n",
       "      <td>$878,488</td>\n",
       "      <td>$593,678</td>\n",
       "      <td>12/31/2020</td>\n",
       "      <td>Tim Burchett</td>\n",
       "      <td>(R)</td>\n",
       "      <td>TN</td>\n",
       "      <td>02</td>\n",
       "      <td>Yes</td>\n",
       "      <td>Yes</td>\n",
       "    </tr>\n",
       "    <tr>\n",
       "      <th>1</th>\n",
       "      <td>Renee Hoyos (D)</td>\n",
       "      <td>$812,784</td>\n",
       "      <td>$816,793</td>\n",
       "      <td>$210</td>\n",
       "      <td>12/31/2020</td>\n",
       "      <td>Renee Hoyos</td>\n",
       "      <td>(D)</td>\n",
       "      <td>TN</td>\n",
       "      <td>02</td>\n",
       "      <td>No</td>\n",
       "      <td>No</td>\n",
       "    </tr>\n",
       "  </tbody>\n",
       "</table>\n",
       "</div>"
      ],
      "text/plain": [
       "                                Candidate      Raised     Spent Cash on Hand  \\\n",
       "0  Tim Burchett (R)  • Incumbent • Winner  $1,336,276  $878,488     $593,678   \n",
       "1                         Renee Hoyos (D)    $812,784  $816,793         $210   \n",
       "\n",
       "  Last Report          Name Party State District Incumbent Winner  \n",
       "0  12/31/2020  Tim Burchett   (R)    TN       02       Yes    Yes  \n",
       "1  12/31/2020   Renee Hoyos   (D)    TN       02        No     No  "
      ]
     },
     "execution_count": 128,
     "metadata": {},
     "output_type": "execute_result"
    }
   ],
   "source": [
    "district"
   ]
  },
  {
   "cell_type": "code",
   "execution_count": null,
   "id": "2618cd89",
   "metadata": {},
   "outputs": [],
   "source": []
  }
 ],
 "metadata": {
  "kernelspec": {
   "display_name": "Python 3 (ipykernel)",
   "language": "python",
   "name": "python3"
  },
  "language_info": {
   "codemirror_mode": {
    "name": "ipython",
    "version": 3
   },
   "file_extension": ".py",
   "mimetype": "text/x-python",
   "name": "python",
   "nbconvert_exporter": "python",
   "pygments_lexer": "ipython3",
   "version": "3.8.5"
  }
 },
 "nbformat": 4,
 "nbformat_minor": 5
}
