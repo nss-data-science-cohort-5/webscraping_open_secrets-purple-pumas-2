{
 "cells": [
  {
   "cell_type": "code",
   "execution_count": 1,
   "id": "d5f4a378",
   "metadata": {},
   "outputs": [],
   "source": [
    "import requests\n",
    "from bs4 import BeautifulSoup as BS\n",
    "import pandas as pd\n",
    "import re"
   ]
  },
  {
   "cell_type": "code",
   "execution_count": null,
   "id": "57e7bc7a",
   "metadata": {},
   "outputs": [],
   "source": [
    "headers = {'User-Agent': 'Mozilla/5.0 (Windows NT 10.0; Win64; x64) AppleWebKit/537.36 (KHTML, like Gecko) Chrome/94.0.4606.81 Safari/537.36 Edg/94.0.992.47'}"
   ]
  },
  {
   "cell_type": "code",
   "execution_count": null,
   "id": "43b53da3",
   "metadata": {},
   "outputs": [],
   "source": [
    "abbr = (pd.read_csv('abbr-list.csv'))\n",
    "states = abbr['####'].to_list()"
   ]
  },
  {
   "cell_type": "code",
   "execution_count": null,
   "id": "658ca005",
   "metadata": {},
   "outputs": [],
   "source": [
    "def get_district_info(states, district_num):\n",
    "    url = f'https://www.opensecrets.org/races/summary?cycle=2020&id={states}{district_num}&spec=N'\n",
    "    response = requests.get(url, headers = headers)\n",
    "    soup = BS(response.text, 'html.parser')\n",
    "    district_info = soup.select('table')[0]\n",
    "    district = pd.read_html(str(district_info))[0]\n",
    "    for item in states:\n",
    "        "
   ]
  },
  {
   "cell_type": "code",
   "execution_count": 10,
   "id": "d1e1ebfb",
   "metadata": {},
   "outputs": [],
   "source": [
    "def (tag):  \n",
    "    url = f'https://www.opensecrets.org/races/summary?cycle=2020&id=TN{tag}&spec=N'\n",
    "    response = requests.get(url)\n",
    "    soup = BS(response.text, 'html.parser')\n",
    "    district_info = soup.select('table')[0]\n",
    "    district = pd.read_html(str(district_info))[0]\n",
    "    district['Name'] = district['Candidate'].str.extract(r'([A-Za-z]+\\s[A-Za-z]+)')\n",
    "    district['Party'] = district['Candidate'].str.extract(r'(\\(\\w{1}\\))')\n",
    "    district['State'] = re.search(r'(id=)(\\w{2})', url)[2]\n",
    "    district['District'] = re.search(r'(id=\\w{2})(\\d{2})', url)[2]\n",
    "    district['Incumbent'] = district['Candidate'].str.extract(r'(Incumbent)')\n",
    "    district['Winner'] = district['Candidate'].str.extract(r'(Winner)')\n",
    "    district = district.replace(('Incumbent', 'Winner'), ('Yes', 'Yes'))\n",
    "    district = district.fillna('No')\n",
    "         "
   ]
  },
  {
   "cell_type": "code",
   "execution_count": 11,
   "id": "80ef599d",
   "metadata": {},
   "outputs": [
    {
     "ename": "TypeError",
     "evalue": "find() takes no keyword arguments",
     "output_type": "error",
     "traceback": [
      "\u001b[1;31m---------------------------------------------------------------------------\u001b[0m",
      "\u001b[1;31mTypeError\u001b[0m                                 Traceback (most recent call last)",
      "\u001b[1;32m~\\AppData\\Local\\Temp/ipykernel_19708/577731753.py\u001b[0m in \u001b[0;36m<module>\u001b[1;34m\u001b[0m\n\u001b[1;32m----> 1\u001b[1;33m \u001b[0mgetinfo\u001b[0m\u001b[1;33m(\u001b[0m\u001b[1;34m'02'\u001b[0m\u001b[1;33m)\u001b[0m\u001b[1;33m\u001b[0m\u001b[1;33m\u001b[0m\u001b[0m\n\u001b[0m\u001b[0;32m      2\u001b[0m \u001b[0mprint\u001b[0m\u001b[1;33m(\u001b[0m\u001b[0mtn_districts\u001b[0m\u001b[1;33m)\u001b[0m\u001b[1;33m\u001b[0m\u001b[1;33m\u001b[0m\u001b[0m\n",
      "\u001b[1;32m~\\AppData\\Local\\Temp/ipykernel_19708/3674114128.py\u001b[0m in \u001b[0;36mgetinfo\u001b[1;34m(tag)\u001b[0m\n\u001b[0;32m      8\u001b[0m     \u001b[1;32mfor\u001b[0m \u001b[0mitem\u001b[0m \u001b[1;32min\u001b[0m \u001b[0mdistrict\u001b[0m\u001b[1;33m:\u001b[0m\u001b[1;33m\u001b[0m\u001b[1;33m\u001b[0m\u001b[0m\n\u001b[0;32m      9\u001b[0m         info = {\n\u001b[1;32m---> 10\u001b[1;33m             \u001b[1;34m'raised'\u001b[0m\u001b[1;33m:\u001b[0m \u001b[0mitem\u001b[0m\u001b[1;33m.\u001b[0m\u001b[0mfind\u001b[0m\u001b[1;33m(\u001b[0m\u001b[1;34m'td'\u001b[0m\u001b[1;33m,\u001b[0m \u001b[0mclass_\u001b[0m \u001b[1;33m=\u001b[0m \u001b[1;34m'number'\u001b[0m\u001b[1;33m)\u001b[0m\u001b[1;33m[\u001b[0m\u001b[1;36m0\u001b[0m\u001b[1;33m]\u001b[0m\u001b[1;33m.\u001b[0m\u001b[0mtext\u001b[0m\u001b[1;33m,\u001b[0m\u001b[1;33m\u001b[0m\u001b[1;33m\u001b[0m\u001b[0m\n\u001b[0m\u001b[0;32m     11\u001b[0m             \u001b[1;34m'spent'\u001b[0m\u001b[1;33m:\u001b[0m \u001b[0mitem\u001b[0m\u001b[1;33m.\u001b[0m\u001b[0mfind\u001b[0m\u001b[1;33m(\u001b[0m\u001b[1;34m'td'\u001b[0m\u001b[1;33m,\u001b[0m \u001b[0mclass_\u001b[0m \u001b[1;33m=\u001b[0m \u001b[1;34m'number'\u001b[0m\u001b[1;33m)\u001b[0m\u001b[1;33m[\u001b[0m\u001b[1;36m1\u001b[0m\u001b[1;33m]\u001b[0m\u001b[1;33m.\u001b[0m\u001b[0mtext\u001b[0m\u001b[1;33m\u001b[0m\u001b[1;33m\u001b[0m\u001b[0m\n\u001b[0;32m     12\u001b[0m         }\n",
      "\u001b[1;31mTypeError\u001b[0m: find() takes no keyword arguments"
     ]
    }
   ],
   "source": [
    "getinfo('02')\n",
    "print(tn_districts)"
   ]
  }
 ],
 "metadata": {
  "kernelspec": {
   "display_name": "Python 3 (ipykernel)",
   "language": "python",
   "name": "python3"
  },
  "language_info": {
   "codemirror_mode": {
    "name": "ipython",
    "version": 3
   },
   "file_extension": ".py",
   "mimetype": "text/x-python",
   "name": "python",
   "nbconvert_exporter": "python",
   "pygments_lexer": "ipython3",
   "version": "3.8.5"
  }
 },
 "nbformat": 4,
 "nbformat_minor": 5
}
