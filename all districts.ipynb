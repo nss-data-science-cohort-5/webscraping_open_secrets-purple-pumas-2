{
 "cells": [
  {
   "cell_type": "code",
   "execution_count": 64,
   "metadata": {},
   "outputs": [],
   "source": [
    "import requests\n",
    "from bs4 import BeautifulSoup as bs\n",
    "import pandas as pd\n",
    "import re\n",
    "from tqdm.notebook import tqdm\n",
    "import time\n",
    "import seaborn as sns\n",
    "import matplotlib.pyplot as plt"
   ]
  },
  {
   "cell_type": "code",
   "execution_count": 2,
   "metadata": {},
   "outputs": [],
   "source": [
    "# \n",
    "headers = {'User-Agent': 'Mozilla/5.0 (Windows NT 10.0; Win64; x64) AppleWebKit/537.36 (KHTML, like Gecko) Chrome/94.0.4606.81 Safari/537.36 Edg/94.0.992.47'}"
   ]
  },
  {
   "cell_type": "code",
   "execution_count": 3,
   "metadata": {},
   "outputs": [],
   "source": [
    "url_dist_num = 'https://www.britannica.com/topic/United-States-House-of-Representatives-Seats-by-State-1787120'\n",
    "resp_dist_num = requests.get(url_dist_num, headers = headers)\n",
    "soup_dist_num = bs(resp_dist_num.text, 'html.parser')\n",
    "dist_num_table = pd.read_html(str(soup_dist_num.findAll('table')))[0].drop(50)\n",
    "\n",
    "url_abbr = 'https://www.50states.com/abbreviations.htm'\n",
    "resp_abbr = requests.get(url_abbr, headers = headers)\n",
    "soup_abbr = bs(resp_abbr.text, 'html.parser')\n",
    "abbr_table = pd.read_html(str(soup_abbr.findAll('table', 'table table-hover')))[0].rename(columns = {'US STATE': 'state'})\n",
    "\n",
    "id_table = pd.merge(abbr_table, dist_num_table, on = 'state').drop(columns = {'state', 'STANDARD ABBREVIATION'}).rename(columns = {'POSTAL ABBREVIATION': 'state', 'representatives': 'districts'})\n",
    "\n",
    "all_urls = []\n",
    "for index in id_table.index:\n",
    "    state = id_table.loc[index]['state']\n",
    "    districts = id_table.loc[index]['districts']\n",
    "    for district in range(1, districts + 1):\n",
    "        url = f'https://www.opensecrets.org/races/summary?cycle=2020&id={state}{str(district).zfill(2)}&spec=N'\n",
    "        all_urls.append(url)"
   ]
  },
  {
   "cell_type": "code",
   "execution_count": 21,
   "metadata": {},
   "outputs": [
    {
     "data": {
      "application/vnd.jupyter.widget-view+json": {
       "model_id": "749da5fdffdb4b3083b86200acd9f0f4",
       "version_major": 2,
       "version_minor": 0
      },
      "text/plain": [
       "  0%|          | 0/435 [00:00<?, ?it/s]"
      ]
     },
     "metadata": {},
     "output_type": "display_data"
    }
   ],
   "source": [
    "all_districts = []\n",
    "for url in tqdm(all_urls):\n",
    "    response = requests.get(url, headers = headers)\n",
    "    soup = bs(response.text, 'html.parser')\n",
    "    time.sleep(0.1)\n",
    "    if len(soup.findAll('table')) > 0:\n",
    "        table = pd.read_html(str(soup.findAll('table')))[0]\n",
    "        table['Name'] = table['Candidate'].str.extract(r'(\\w.+)\\s[\\(]')\n",
    "        table['Party'] = table['Candidate'].str.extract(r'(\\((\\w{1})\\))')[1]\n",
    "        table['State'] = re.search(r'(id=)(\\w{2})', url)[2]\n",
    "        table['District'] = re.search(r'(id=\\w{2})(\\d{2})', url)[2]\n",
    "        table['Incumbent'] = table['Candidate'].str.extract(r'(Incumbent)')\n",
    "        table['Winner'] = table['Candidate'].str.extract(r'(Winner)')\n",
    "        table = table.replace(('Incumbent', 'Winner'), ('Yes', 'Yes'))\n",
    "        table = table.fillna('No')\n",
    "        table = table[['Name', 'Party', 'State', 'District', 'Incumbent', 'Winner', 'Raised', 'Spent']]\n",
    "        all_districts.append(table)\n",
    "all_districts = pd.concat(all_districts).reset_index(drop = True)"
   ]
  },
  {
   "cell_type": "code",
   "execution_count": 58,
   "metadata": {},
   "outputs": [],
   "source": [
    "all_dist = all_districts\n",
    "all_dist[all_dist.columns[6:]] = all_dist[all_dist.columns[6:]].replace('[\\$,]', '', regex=True).astype(float)\n",
    "all_dist[all_dist.columns[:6]] = all_dist[all_dist.columns[:6]].astype(str)\n",
    "all_dist.to_csv('../webscraping_open_secrets-purple-pumas-2/all_dist.csv', index = False)"
   ]
  },
  {
   "cell_type": "code",
   "execution_count": 59,
   "metadata": {},
   "outputs": [
    {
     "data": {
      "text/html": [
       "<div>\n",
       "<style scoped>\n",
       "    .dataframe tbody tr th:only-of-type {\n",
       "        vertical-align: middle;\n",
       "    }\n",
       "\n",
       "    .dataframe tbody tr th {\n",
       "        vertical-align: top;\n",
       "    }\n",
       "\n",
       "    .dataframe thead th {\n",
       "        text-align: right;\n",
       "    }\n",
       "</style>\n",
       "<table border=\"1\" class=\"dataframe\">\n",
       "  <thead>\n",
       "    <tr style=\"text-align: right;\">\n",
       "      <th></th>\n",
       "      <th>Name</th>\n",
       "      <th>Party</th>\n",
       "      <th>State</th>\n",
       "      <th>District</th>\n",
       "      <th>Incumbent</th>\n",
       "      <th>Winner</th>\n",
       "      <th>Raised</th>\n",
       "      <th>Spent</th>\n",
       "    </tr>\n",
       "  </thead>\n",
       "  <tbody>\n",
       "    <tr>\n",
       "      <th>0</th>\n",
       "      <td>Jerry Carl</td>\n",
       "      <td>R</td>\n",
       "      <td>AL</td>\n",
       "      <td>01</td>\n",
       "      <td>No</td>\n",
       "      <td>Yes</td>\n",
       "      <td>1971321.0</td>\n",
       "      <td>1859349.0</td>\n",
       "    </tr>\n",
       "    <tr>\n",
       "      <th>1</th>\n",
       "      <td>James Averhart</td>\n",
       "      <td>D</td>\n",
       "      <td>AL</td>\n",
       "      <td>01</td>\n",
       "      <td>No</td>\n",
       "      <td>No</td>\n",
       "      <td>80095.0</td>\n",
       "      <td>78973.0</td>\n",
       "    </tr>\n",
       "    <tr>\n",
       "      <th>2</th>\n",
       "      <td>Barry Moore</td>\n",
       "      <td>R</td>\n",
       "      <td>AL</td>\n",
       "      <td>02</td>\n",
       "      <td>No</td>\n",
       "      <td>Yes</td>\n",
       "      <td>650807.0</td>\n",
       "      <td>669368.0</td>\n",
       "    </tr>\n",
       "    <tr>\n",
       "      <th>3</th>\n",
       "      <td>Phyllis Harvey-Hall</td>\n",
       "      <td>D</td>\n",
       "      <td>AL</td>\n",
       "      <td>02</td>\n",
       "      <td>No</td>\n",
       "      <td>No</td>\n",
       "      <td>56050.0</td>\n",
       "      <td>55988.0</td>\n",
       "    </tr>\n",
       "    <tr>\n",
       "      <th>4</th>\n",
       "      <td>Mike D Rogers</td>\n",
       "      <td>R</td>\n",
       "      <td>AL</td>\n",
       "      <td>03</td>\n",
       "      <td>Yes</td>\n",
       "      <td>Yes</td>\n",
       "      <td>1193111.0</td>\n",
       "      <td>1218564.0</td>\n",
       "    </tr>\n",
       "    <tr>\n",
       "      <th>...</th>\n",
       "      <td>...</td>\n",
       "      <td>...</td>\n",
       "      <td>...</td>\n",
       "      <td>...</td>\n",
       "      <td>...</td>\n",
       "      <td>...</td>\n",
       "      <td>...</td>\n",
       "      <td>...</td>\n",
       "    </tr>\n",
       "    <tr>\n",
       "      <th>889</th>\n",
       "      <td>Tricia Zunker</td>\n",
       "      <td>D</td>\n",
       "      <td>WI</td>\n",
       "      <td>07</td>\n",
       "      <td>No</td>\n",
       "      <td>No</td>\n",
       "      <td>1261957.0</td>\n",
       "      <td>1232690.0</td>\n",
       "    </tr>\n",
       "    <tr>\n",
       "      <th>890</th>\n",
       "      <td>Mike Gallagher</td>\n",
       "      <td>R</td>\n",
       "      <td>WI</td>\n",
       "      <td>08</td>\n",
       "      <td>Yes</td>\n",
       "      <td>Yes</td>\n",
       "      <td>3202905.0</td>\n",
       "      <td>2841801.0</td>\n",
       "    </tr>\n",
       "    <tr>\n",
       "      <th>891</th>\n",
       "      <td>Amanda Stuck</td>\n",
       "      <td>D</td>\n",
       "      <td>WI</td>\n",
       "      <td>08</td>\n",
       "      <td>No</td>\n",
       "      <td>No</td>\n",
       "      <td>416978.0</td>\n",
       "      <td>399916.0</td>\n",
       "    </tr>\n",
       "    <tr>\n",
       "      <th>892</th>\n",
       "      <td>Liz Cheney</td>\n",
       "      <td>R</td>\n",
       "      <td>WY</td>\n",
       "      <td>01</td>\n",
       "      <td>Yes</td>\n",
       "      <td>Yes</td>\n",
       "      <td>3003883.0</td>\n",
       "      <td>3060167.0</td>\n",
       "    </tr>\n",
       "    <tr>\n",
       "      <th>893</th>\n",
       "      <td>Lynnette Grey Bull</td>\n",
       "      <td>D</td>\n",
       "      <td>WY</td>\n",
       "      <td>01</td>\n",
       "      <td>No</td>\n",
       "      <td>No</td>\n",
       "      <td>134597.0</td>\n",
       "      <td>132235.0</td>\n",
       "    </tr>\n",
       "  </tbody>\n",
       "</table>\n",
       "<p>894 rows × 8 columns</p>\n",
       "</div>"
      ],
      "text/plain": [
       "                    Name Party State District Incumbent Winner     Raised  \\\n",
       "0             Jerry Carl     R    AL       01        No    Yes  1971321.0   \n",
       "1         James Averhart     D    AL       01        No     No    80095.0   \n",
       "2            Barry Moore     R    AL       02        No    Yes   650807.0   \n",
       "3    Phyllis Harvey-Hall     D    AL       02        No     No    56050.0   \n",
       "4          Mike D Rogers     R    AL       03       Yes    Yes  1193111.0   \n",
       "..                   ...   ...   ...      ...       ...    ...        ...   \n",
       "889        Tricia Zunker     D    WI       07        No     No  1261957.0   \n",
       "890       Mike Gallagher     R    WI       08       Yes    Yes  3202905.0   \n",
       "891         Amanda Stuck     D    WI       08        No     No   416978.0   \n",
       "892           Liz Cheney     R    WY       01       Yes    Yes  3003883.0   \n",
       "893   Lynnette Grey Bull     D    WY       01        No     No   134597.0   \n",
       "\n",
       "         Spent  \n",
       "0    1859349.0  \n",
       "1      78973.0  \n",
       "2     669368.0  \n",
       "3      55988.0  \n",
       "4    1218564.0  \n",
       "..         ...  \n",
       "889  1232690.0  \n",
       "890  2841801.0  \n",
       "891   399916.0  \n",
       "892  3060167.0  \n",
       "893   132235.0  \n",
       "\n",
       "[894 rows x 8 columns]"
      ]
     },
     "execution_count": 59,
     "metadata": {},
     "output_type": "execute_result"
    }
   ],
   "source": [
    "all_dist"
   ]
  },
  {
   "cell_type": "code",
   "execution_count": 68,
   "metadata": {
    "scrolled": false
   },
   "outputs": [
    {
     "data": {
      "image/png": "[encoded data removed]",
      "text/plain": [
       "<Figure size 1152x720 with 1 Axes>"
      ]
     },
     "metadata": {
      "needs_background": "light"
     },
     "output_type": "display_data"
    }
   ],
   "source": [
    "fig, ax = plt.subplots(figsize = (16,10))\n",
    "sns.boxplot(y = all_dist['Incumbent'], x = all_dist['Spent'], hue = all_dist['Winner'], ax = ax, orient = 'h');"
   ]
  },
  {
   "cell_type": "markdown",
   "metadata": {},
   "source": [
    "How often does the candidate who raised more money win a race?\n",
    "\n",
    "How often does the candidate who spent more money win a race?\n",
    "\n",
    "Does the difference between either money raised or money spent seem to influence the likelihood of a candidate winning a race?\n",
    "\n",
    "How often does the incumbent candidate win a race?\n",
    "\n",
    "Can you detect any relationship between amount of money raised and the incumbent status of a candidate?"
   ]
  },
  {
   "cell_type": "code",
   "execution_count": 72,
   "metadata": {},
   "outputs": [
    {
     "data": {
      "text/plain": [
       "37262827.0"
      ]
     },
     "execution_count": 72,
     "metadata": {},
     "output_type": "execute_result"
    }
   ],
   "source": [
    "all_dist.corr()"
   ]
  },
  {
   "cell_type": "code",
   "execution_count": null,
   "metadata": {},
   "outputs": [],
   "source": []
  }
 ],
 "metadata": {
  "interpreter": {
   "hash": "253a6a7ffe503a63d6144d7c0e3786644e136961ccf6a4a04ff8a549634eca3a"
  },
  "kernelspec": {
   "display_name": "Python 3",
   "language": "python",
   "name": "python3"
  },
  "language_info": {
   "codemirror_mode": {
    "name": "ipython",
    "version": 3
   },
   "file_extension": ".py",
   "mimetype": "text/x-python",
   "name": "python",
   "nbconvert_exporter": "python",
   "pygments_lexer": "ipython3",
   "version": "3.8.8"
  }
 },
 "nbformat": 4,
 "nbformat_minor": 2
}
