{
 "cells": [
  {
   "cell_type": "code",
   "execution_count": 1,
   "id": "cfdd54f7",
   "metadata": {},
   "outputs": [],
   "source": [
    "import requests\n",
    "import pandas as pd\n",
    "from bs4 import BeautifulSoup as BS\n",
    "from IPython.core.display import HTML\n",
    "import re"
   ]
  },
  {
   "cell_type": "markdown",
   "id": "0d40135f",
   "metadata": {},
   "source": [
    "2. Once you have working code for Tennessee's 2nd District, expand on your code to capture all of Tennessee's districts."
   ]
  },
  {
   "cell_type": "code",
   "execution_count": null,
   "id": "636865ec",
   "metadata": {},
   "outputs": [],
   "source": [
    "https://www.opensecrets.org/races/summary?cycle=2020&id={'state'}{'district'}&spec=N"
   ]
  },
  {
   "cell_type": "code",
   "execution_count": 18,
   "id": "1c9c1717",
   "metadata": {},
   "outputs": [],
   "source": [
    "#loop to get a list of strings for the districts. using zfill to back fill 1-9 Thanks Veronica!\n",
    "districts = []\n",
    "for district in range(1,54):\n",
    "    district = str(district).zfill(2)\n",
    "    districts.append(district)"
   ]
  },
  {
   "cell_type": "code",
   "execution_count": null,
   "id": "27e17b1b",
   "metadata": {},
   "outputs": [],
   "source": [
    "#https://gist.github.com/JeffPaine/3083347 I didn't want to type all this out\n",
    "states = [\"AL\", \"AK\", \"AZ\", \"AR\", \"CA\", \"CO\", \"CT\", \"DE\", \"FL\", \"GA\", \n",
    "          \"HI\", \"ID\", \"IL\", \"IN\", \"IA\", \"KS\", \"KY\", \"LA\", \"ME\", \"MD\", \n",
    "          \"MA\", \"MI\", \"MN\", \"MS\", \"MO\", \"MT\", \"NE\", \"NV\", \"NH\", \"NJ\", \n",
    "          \"NM\", \"NY\", \"NC\", \"ND\", \"OH\", \"OK\", \"OR\", \"PA\", \"RI\", \"SC\", \n",
    "          \"SD\", \"TN\", \"TX\", \"UT\", \"VT\", \"VA\", \"WA\", \"WV\", \"WI\", \"WY\"]\n"
   ]
  },
  {
   "cell_type": "code",
   "execution_count": 3,
   "id": "b05b40f9",
   "metadata": {},
   "outputs": [
    {
     "data": {
      "text/html": [
       "<div>\n",
       "<style scoped>\n",
       "    .dataframe tbody tr th:only-of-type {\n",
       "        vertical-align: middle;\n",
       "    }\n",
       "\n",
       "    .dataframe tbody tr th {\n",
       "        vertical-align: top;\n",
       "    }\n",
       "\n",
       "    .dataframe thead th {\n",
       "        text-align: right;\n",
       "    }\n",
       "</style>\n",
       "<table border=\"1\" class=\"dataframe\">\n",
       "  <thead>\n",
       "    <tr style=\"text-align: right;\">\n",
       "      <th></th>\n",
       "      <th>Candidate_name</th>\n",
       "      <th>Party</th>\n",
       "      <th>Incumbent</th>\n",
       "      <th>Winner</th>\n",
       "      <th>Raised</th>\n",
       "      <th>Spent</th>\n",
       "      <th>Cash on Hand</th>\n",
       "      <th>State</th>\n",
       "      <th>District</th>\n",
       "    </tr>\n",
       "  </thead>\n",
       "  <tbody>\n",
       "    <tr>\n",
       "      <th>0</th>\n",
       "      <td>Tim Burchett</td>\n",
       "      <td>(R)</td>\n",
       "      <td>True</td>\n",
       "      <td>True</td>\n",
       "      <td>$1,336,276</td>\n",
       "      <td>$878,488</td>\n",
       "      <td>$593,678</td>\n",
       "      <td>Tennessee</td>\n",
       "      <td>02</td>\n",
       "    </tr>\n",
       "    <tr>\n",
       "      <th>1</th>\n",
       "      <td>Renee Hoyos</td>\n",
       "      <td>(D)</td>\n",
       "      <td>False</td>\n",
       "      <td>False</td>\n",
       "      <td>$812,784</td>\n",
       "      <td>$816,793</td>\n",
       "      <td>$210</td>\n",
       "      <td>Tennessee</td>\n",
       "      <td>02</td>\n",
       "    </tr>\n",
       "  </tbody>\n",
       "</table>\n",
       "</div>"
      ],
      "text/plain": [
       "  Candidate_name Party  Incumbent  Winner      Raised     Spent Cash on Hand  \\\n",
       "0   Tim Burchett   (R)       True    True  $1,336,276  $878,488     $593,678   \n",
       "1    Renee Hoyos   (D)      False   False    $812,784  $816,793         $210   \n",
       "\n",
       "       State District  \n",
       "0  Tennessee       02  \n",
       "1  Tennessee       02  "
      ]
     },
     "execution_count": 3,
     "metadata": {},
     "output_type": "execute_result"
    }
   ],
   "source": [
    "URL = \"https://www.opensecrets.org/races/summary?cycle=2020&id='state + district'&spec=N.\"\n",
    "\n",
    "\n",
    "TN = requests.get(URL)\n",
    "TNsoup = BS(tn2nd.text)\n",
    "TN_table = tn2ndsoup.find('table', attrs={'class' : 'DataTable'})\n",
    "TN_df = (pd.read_html(str(TNsoup.find('table', attrs={'class' : 'DataTable'}))))[0]\n",
    "\n",
    "#extracts the state and district from the df created with the HTML code \n",
    "title =TNsoup.find('title')\n",
    "title = title.get_text()\n",
    "title = (\n",
    "    title.replace(' 2020 Race • OpenSecrets', '')\n",
    "         .replace('District ', '')\n",
    "         .split(' ')\n",
    "        )\n",
    "state = (title[0])\n",
    "district = title[1]\n",
    "\n",
    "#regex for candidate, incumbent, party, and winner\n",
    "candidate = r\"(\\w+\\s\\w+)\"\n",
    "incumbent = \"Incumbent\"\n",
    "party = r\"(\\W\\w\\W)\"\n",
    "winner = \"Winner\"\n",
    "\n",
    "#create dictionaries for columns with multiple info in them (candidate name has party, )\n",
    "columns_extract= {'Candidate_name': candidate,'Party':party}\n",
    "columns_contains = {'Incumbent':incumbent, 'Winner':winner}\n",
    "\n",
    "#creates columns for party, incumbent, and winner and extracts the info from the candidate column\n",
    "for key, value in columns_extract.items():\n",
    "    tn2nd_df[key] = TN_df['Candidate'].str.extract(value, expand=True)\n",
    "    for key, value in columns_contains.items():\n",
    "        tn2nd_df[key] = TN_df['Candidate'].str.contains(value)\n",
    "\n",
    "TN_df = TN_df[['Candidate_name', \n",
    "                                     'Party', \n",
    "                                     'Incumbent', \n",
    "                                     'Winner', \n",
    "                                     'Raised', \n",
    "                                     'Spent', \n",
    "                                     'Cash on Hand']]\n",
    "#adds in the state and district \n",
    "TN_df['State'] = state \n",
    "\n",
    "TN_df['District'] = district\n",
    "\n",
    "TN_df"
   ]
  },
  {
   "cell_type": "code",
   "execution_count": null,
   "id": "1a35faac",
   "metadata": {},
   "outputs": [],
   "source": [
    "https://www.opensecrets.org/races/summary?cycle=2020&id=TN01&spec=N\n",
    "https://www.opensecrets.org/races/summary?cycle=2020&id=TN02&spec=N\n",
    "https://www.opensecrets.org/races/summary?cycle=2020&id=TN03&spec=N\n",
    "\n",
    "https://www.opensecrets.org/races/summary?cycle=2020&id={'state'}{'district'}&spec=N"
   ]
  }
 ],
 "metadata": {
  "kernelspec": {
   "display_name": "Python 3",
   "language": "python",
   "name": "python3"
  },
  "language_info": {
   "codemirror_mode": {
    "name": "ipython",
    "version": 3
   },
   "file_extension": ".py",
   "mimetype": "text/x-python",
   "name": "python",
   "nbconvert_exporter": "python",
   "pygments_lexer": "ipython3",
   "version": "3.8.8"
  }
 },
 "nbformat": 4,
 "nbformat_minor": 5
}
