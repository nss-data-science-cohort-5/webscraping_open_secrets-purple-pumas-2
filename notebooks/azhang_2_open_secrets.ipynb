{
 "cells": [
  {
   "cell_type": "markdown",
   "id": "a3c5e969",
   "metadata": {
    "slideshow": {
     "slide_type": "slide"
    }
   },
   "source": [
    "# An Analysis of Political Contributions During the 2020 House of Representatives Election (Part II)\n",
    "Purple pumas: James, Vamsi, and Alex"
   ]
  },
  {
   "cell_type": "markdown",
   "id": "d9b7897b",
   "metadata": {
    "slideshow": {
     "slide_type": "skip"
    }
   },
   "source": [
    "4. Using your scraped data, investigates different relationships between candidates and the amount of money they raised. Here are some suggestions to get you started, but feel free to pose you own questions or do additional exploration:  \n",
    "    a. How often does the candidate who raised more money win a race?  \n",
    "    b. How often does the candidate who spent more money win a race?  \n",
    "    c. Does the difference between either money raised or money spent seem to influence the likelihood of a candidate winning a race?  \n",
    "    d. How often does the incumbent candidate win a race?  \n",
    "    e. Can you detect any relationship between amount of money raised and the incumbent status of a candidate?"
   ]
  },
  {
   "cell_type": "markdown",
   "id": "652370c1",
   "metadata": {
    "slideshow": {
     "slide_type": "slide"
    }
   },
   "source": [
    "## Data Overview\n",
    "Number of districts: 435\n",
    "\n",
    "Number of candidates: 894\n",
    "\n",
    "Number of incumbent:386\n",
    "\n",
    "Total cash raised: $1,667,849,690\n",
    "\n",
    "Total cash spent: $1,505,663,124\n",
    "\n",
    "Total cash on hand: $370,092,954"
   ]
  },
  {
   "cell_type": "code",
   "execution_count": 20,
   "id": "ffe7cdc8",
   "metadata": {
    "slideshow": {
     "slide_type": "skip"
    }
   },
   "outputs": [],
   "source": [
    "import pandas as pd\n",
    "import matplotlib.pyplot as plt\n",
    "import seaborn as sns\n",
    "import requests\n",
    "from bs4 import BeautifulSoup as BS\n",
    "from IPython.core.display import HTML\n",
    "import re"
   ]
  },
  {
   "cell_type": "code",
   "execution_count": 2,
   "id": "e674516f",
   "metadata": {
    "slideshow": {
     "slide_type": "skip"
    }
   },
   "outputs": [],
   "source": [
    "open_secrets = pd.read_csv('../data/open_secrets.csv')"
   ]
  },
  {
   "cell_type": "code",
   "execution_count": 3,
   "id": "4073277c",
   "metadata": {
    "scrolled": true,
    "slideshow": {
     "slide_type": "skip"
    }
   },
   "outputs": [
    {
     "data": {
      "text/html": [
       "<div>\n",
       "<style scoped>\n",
       "    .dataframe tbody tr th:only-of-type {\n",
       "        vertical-align: middle;\n",
       "    }\n",
       "\n",
       "    .dataframe tbody tr th {\n",
       "        vertical-align: top;\n",
       "    }\n",
       "\n",
       "    .dataframe thead th {\n",
       "        text-align: right;\n",
       "    }\n",
       "</style>\n",
       "<table border=\"1\" class=\"dataframe\">\n",
       "  <thead>\n",
       "    <tr style=\"text-align: right;\">\n",
       "      <th></th>\n",
       "      <th>Candidate</th>\n",
       "      <th>Raised</th>\n",
       "      <th>Spent</th>\n",
       "      <th>Cash on Hand</th>\n",
       "      <th>Last Report</th>\n",
       "      <th>Incumbent</th>\n",
       "      <th>Winner</th>\n",
       "      <th>Party</th>\n",
       "      <th>State</th>\n",
       "      <th>District</th>\n",
       "    </tr>\n",
       "  </thead>\n",
       "  <tbody>\n",
       "    <tr>\n",
       "      <th>0</th>\n",
       "      <td>Jerry Carl</td>\n",
       "      <td>1971321</td>\n",
       "      <td>1859349</td>\n",
       "      <td>111973</td>\n",
       "      <td>12/31/2020</td>\n",
       "      <td>False</td>\n",
       "      <td>True</td>\n",
       "      <td>R</td>\n",
       "      <td>AL</td>\n",
       "      <td>1</td>\n",
       "    </tr>\n",
       "    <tr>\n",
       "      <th>1</th>\n",
       "      <td>James Averhart</td>\n",
       "      <td>80095</td>\n",
       "      <td>78973</td>\n",
       "      <td>1122</td>\n",
       "      <td>12/31/2020</td>\n",
       "      <td>False</td>\n",
       "      <td>False</td>\n",
       "      <td>D</td>\n",
       "      <td>AL</td>\n",
       "      <td>1</td>\n",
       "    </tr>\n",
       "    <tr>\n",
       "      <th>2</th>\n",
       "      <td>Barry Moore</td>\n",
       "      <td>650807</td>\n",
       "      <td>669368</td>\n",
       "      <td>13633</td>\n",
       "      <td>12/31/2020</td>\n",
       "      <td>False</td>\n",
       "      <td>True</td>\n",
       "      <td>R</td>\n",
       "      <td>AL</td>\n",
       "      <td>2</td>\n",
       "    </tr>\n",
       "    <tr>\n",
       "      <th>3</th>\n",
       "      <td>Phyllis Harvey-Hall</td>\n",
       "      <td>56050</td>\n",
       "      <td>55988</td>\n",
       "      <td>0</td>\n",
       "      <td>12/31/2020</td>\n",
       "      <td>False</td>\n",
       "      <td>False</td>\n",
       "      <td>D</td>\n",
       "      <td>AL</td>\n",
       "      <td>2</td>\n",
       "    </tr>\n",
       "    <tr>\n",
       "      <th>4</th>\n",
       "      <td>Mike D Rogers</td>\n",
       "      <td>1193111</td>\n",
       "      <td>1218564</td>\n",
       "      <td>502234</td>\n",
       "      <td>12/31/2020</td>\n",
       "      <td>True</td>\n",
       "      <td>True</td>\n",
       "      <td>R</td>\n",
       "      <td>AL</td>\n",
       "      <td>3</td>\n",
       "    </tr>\n",
       "    <tr>\n",
       "      <th>...</th>\n",
       "      <td>...</td>\n",
       "      <td>...</td>\n",
       "      <td>...</td>\n",
       "      <td>...</td>\n",
       "      <td>...</td>\n",
       "      <td>...</td>\n",
       "      <td>...</td>\n",
       "      <td>...</td>\n",
       "      <td>...</td>\n",
       "      <td>...</td>\n",
       "    </tr>\n",
       "    <tr>\n",
       "      <th>889</th>\n",
       "      <td>Tricia Zunker</td>\n",
       "      <td>1261957</td>\n",
       "      <td>1232690</td>\n",
       "      <td>29267</td>\n",
       "      <td>12/31/2020</td>\n",
       "      <td>False</td>\n",
       "      <td>False</td>\n",
       "      <td>D</td>\n",
       "      <td>WI</td>\n",
       "      <td>7</td>\n",
       "    </tr>\n",
       "    <tr>\n",
       "      <th>890</th>\n",
       "      <td>Mike Gallagher</td>\n",
       "      <td>3202905</td>\n",
       "      <td>2841801</td>\n",
       "      <td>1169362</td>\n",
       "      <td>12/31/2020</td>\n",
       "      <td>True</td>\n",
       "      <td>True</td>\n",
       "      <td>R</td>\n",
       "      <td>WI</td>\n",
       "      <td>8</td>\n",
       "    </tr>\n",
       "    <tr>\n",
       "      <th>891</th>\n",
       "      <td>Amanda Stuck</td>\n",
       "      <td>416978</td>\n",
       "      <td>399916</td>\n",
       "      <td>2165</td>\n",
       "      <td>12/31/2020</td>\n",
       "      <td>False</td>\n",
       "      <td>False</td>\n",
       "      <td>D</td>\n",
       "      <td>WI</td>\n",
       "      <td>8</td>\n",
       "    </tr>\n",
       "    <tr>\n",
       "      <th>892</th>\n",
       "      <td>Liz Cheney</td>\n",
       "      <td>3003883</td>\n",
       "      <td>3060167</td>\n",
       "      <td>153567</td>\n",
       "      <td>12/31/2020</td>\n",
       "      <td>True</td>\n",
       "      <td>True</td>\n",
       "      <td>R</td>\n",
       "      <td>WY</td>\n",
       "      <td>1</td>\n",
       "    </tr>\n",
       "    <tr>\n",
       "      <th>893</th>\n",
       "      <td>Lynnette Grey Bull</td>\n",
       "      <td>134597</td>\n",
       "      <td>132235</td>\n",
       "      <td>2363</td>\n",
       "      <td>12/31/2020</td>\n",
       "      <td>False</td>\n",
       "      <td>False</td>\n",
       "      <td>D</td>\n",
       "      <td>WY</td>\n",
       "      <td>1</td>\n",
       "    </tr>\n",
       "  </tbody>\n",
       "</table>\n",
       "<p>894 rows × 10 columns</p>\n",
       "</div>"
      ],
      "text/plain": [
       "               Candidate   Raised    Spent  Cash on Hand Last Report  \\\n",
       "0             Jerry Carl  1971321  1859349        111973  12/31/2020   \n",
       "1         James Averhart    80095    78973          1122  12/31/2020   \n",
       "2            Barry Moore   650807   669368         13633  12/31/2020   \n",
       "3    Phyllis Harvey-Hall    56050    55988             0  12/31/2020   \n",
       "4          Mike D Rogers  1193111  1218564        502234  12/31/2020   \n",
       "..                   ...      ...      ...           ...         ...   \n",
       "889        Tricia Zunker  1261957  1232690         29267  12/31/2020   \n",
       "890       Mike Gallagher  3202905  2841801       1169362  12/31/2020   \n",
       "891         Amanda Stuck   416978   399916          2165  12/31/2020   \n",
       "892           Liz Cheney  3003883  3060167        153567  12/31/2020   \n",
       "893   Lynnette Grey Bull   134597   132235          2363  12/31/2020   \n",
       "\n",
       "     Incumbent  Winner Party State  District  \n",
       "0        False    True     R    AL         1  \n",
       "1        False   False     D    AL         1  \n",
       "2        False    True     R    AL         2  \n",
       "3        False   False     D    AL         2  \n",
       "4         True    True     R    AL         3  \n",
       "..         ...     ...   ...   ...       ...  \n",
       "889      False   False     D    WI         7  \n",
       "890       True    True     R    WI         8  \n",
       "891      False   False     D    WI         8  \n",
       "892       True    True     R    WY         1  \n",
       "893      False   False     D    WY         1  \n",
       "\n",
       "[894 rows x 10 columns]"
      ]
     },
     "execution_count": 3,
     "metadata": {},
     "output_type": "execute_result"
    }
   ],
   "source": [
    "open_secrets"
   ]
  },
  {
   "cell_type": "code",
   "execution_count": 19,
   "id": "5b8ed2c6",
   "metadata": {
    "slideshow": {
     "slide_type": "slide"
    }
   },
   "outputs": [
    {
     "data": {
      "text/html": [
       "<div>\n",
       "<style scoped>\n",
       "    .dataframe tbody tr th:only-of-type {\n",
       "        vertical-align: middle;\n",
       "    }\n",
       "\n",
       "    .dataframe tbody tr th {\n",
       "        vertical-align: top;\n",
       "    }\n",
       "\n",
       "    .dataframe thead th {\n",
       "        text-align: right;\n",
       "    }\n",
       "</style>\n",
       "<table border=\"1\" class=\"dataframe\">\n",
       "  <thead>\n",
       "    <tr style=\"text-align: right;\">\n",
       "      <th></th>\n",
       "      <th>Candidate</th>\n",
       "      <th>Raised</th>\n",
       "      <th>Spent</th>\n",
       "      <th>Cash on Hand</th>\n",
       "      <th>Last Report</th>\n",
       "      <th>Incumbent</th>\n",
       "      <th>Winner</th>\n",
       "      <th>Party</th>\n",
       "      <th>State</th>\n",
       "      <th>District</th>\n",
       "      <th>State_District</th>\n",
       "    </tr>\n",
       "  </thead>\n",
       "  <tbody>\n",
       "    <tr>\n",
       "      <th>354</th>\n",
       "      <td>Steve Scalise</td>\n",
       "      <td>37262827</td>\n",
       "      <td>32830607</td>\n",
       "      <td>6217720</td>\n",
       "      <td>12/31/2020</td>\n",
       "      <td>True</td>\n",
       "      <td>True</td>\n",
       "      <td>R</td>\n",
       "      <td>LA</td>\n",
       "      <td>1</td>\n",
       "      <td>LA1</td>\n",
       "    </tr>\n",
       "    <tr>\n",
       "      <th>80</th>\n",
       "      <td>Kevin McCarthy</td>\n",
       "      <td>27780644</td>\n",
       "      <td>24265583</td>\n",
       "      <td>4802133</td>\n",
       "      <td>12/31/2020</td>\n",
       "      <td>True</td>\n",
       "      <td>True</td>\n",
       "      <td>R</td>\n",
       "      <td>CA</td>\n",
       "      <td>23</td>\n",
       "      <td>CA23</td>\n",
       "    </tr>\n",
       "    <tr>\n",
       "      <th>60</th>\n",
       "      <td>Nancy Pelosi</td>\n",
       "      <td>27359508</td>\n",
       "      <td>22064953</td>\n",
       "      <td>6299373</td>\n",
       "      <td>12/31/2020</td>\n",
       "      <td>True</td>\n",
       "      <td>True</td>\n",
       "      <td>D</td>\n",
       "      <td>CA</td>\n",
       "      <td>12</td>\n",
       "      <td>CA12</td>\n",
       "    </tr>\n",
       "    <tr>\n",
       "      <th>78</th>\n",
       "      <td>Devin Nunes</td>\n",
       "      <td>26825212</td>\n",
       "      <td>20156093</td>\n",
       "      <td>10908033</td>\n",
       "      <td>12/31/2020</td>\n",
       "      <td>True</td>\n",
       "      <td>True</td>\n",
       "      <td>R</td>\n",
       "      <td>CA</td>\n",
       "      <td>22</td>\n",
       "      <td>CA22</td>\n",
       "    </tr>\n",
       "    <tr>\n",
       "      <th>547</th>\n",
       "      <td>Alexandria Ocasio-Cortez</td>\n",
       "      <td>20664795</td>\n",
       "      <td>16735422</td>\n",
       "      <td>4297383</td>\n",
       "      <td>12/31/2020</td>\n",
       "      <td>True</td>\n",
       "      <td>True</td>\n",
       "      <td>D</td>\n",
       "      <td>NY</td>\n",
       "      <td>14</td>\n",
       "      <td>NY14</td>\n",
       "    </tr>\n",
       "    <tr>\n",
       "      <th>732</th>\n",
       "      <td>Dan Crenshaw</td>\n",
       "      <td>19427865</td>\n",
       "      <td>17596329</td>\n",
       "      <td>1852715</td>\n",
       "      <td>12/31/2020</td>\n",
       "      <td>True</td>\n",
       "      <td>True</td>\n",
       "      <td>R</td>\n",
       "      <td>TX</td>\n",
       "      <td>2</td>\n",
       "      <td>TX2</td>\n",
       "    </tr>\n",
       "    <tr>\n",
       "      <th>90</th>\n",
       "      <td>Adam Schiff</td>\n",
       "      <td>19382855</td>\n",
       "      <td>10188664</td>\n",
       "      <td>13908271</td>\n",
       "      <td>12/31/2020</td>\n",
       "      <td>True</td>\n",
       "      <td>True</td>\n",
       "      <td>D</td>\n",
       "      <td>CA</td>\n",
       "      <td>28</td>\n",
       "      <td>CA28</td>\n",
       "    </tr>\n",
       "    <tr>\n",
       "      <th>611</th>\n",
       "      <td>Jim Jordan</td>\n",
       "      <td>18313823</td>\n",
       "      <td>12945651</td>\n",
       "      <td>6113812</td>\n",
       "      <td>12/31/2020</td>\n",
       "      <td>True</td>\n",
       "      <td>True</td>\n",
       "      <td>R</td>\n",
       "      <td>OH</td>\n",
       "      <td>4</td>\n",
       "      <td>OH4</td>\n",
       "    </tr>\n",
       "    <tr>\n",
       "      <th>121</th>\n",
       "      <td>Katie Porter</td>\n",
       "      <td>16627706</td>\n",
       "      <td>6443700</td>\n",
       "      <td>10267752</td>\n",
       "      <td>12/31/2020</td>\n",
       "      <td>True</td>\n",
       "      <td>True</td>\n",
       "      <td>D</td>\n",
       "      <td>CA</td>\n",
       "      <td>45</td>\n",
       "      <td>CA45</td>\n",
       "    </tr>\n",
       "    <tr>\n",
       "      <th>561</th>\n",
       "      <td>Elise Stefanik</td>\n",
       "      <td>13287248</td>\n",
       "      <td>11655936</td>\n",
       "      <td>1983541</td>\n",
       "      <td>12/31/2020</td>\n",
       "      <td>True</td>\n",
       "      <td>True</td>\n",
       "      <td>R</td>\n",
       "      <td>NY</td>\n",
       "      <td>21</td>\n",
       "      <td>NY21</td>\n",
       "    </tr>\n",
       "  </tbody>\n",
       "</table>\n",
       "</div>"
      ],
      "text/plain": [
       "                    Candidate    Raised     Spent  Cash on Hand Last Report  \\\n",
       "354             Steve Scalise  37262827  32830607       6217720  12/31/2020   \n",
       "80             Kevin McCarthy  27780644  24265583       4802133  12/31/2020   \n",
       "60               Nancy Pelosi  27359508  22064953       6299373  12/31/2020   \n",
       "78                Devin Nunes  26825212  20156093      10908033  12/31/2020   \n",
       "547  Alexandria Ocasio-Cortez  20664795  16735422       4297383  12/31/2020   \n",
       "732              Dan Crenshaw  19427865  17596329       1852715  12/31/2020   \n",
       "90                Adam Schiff  19382855  10188664      13908271  12/31/2020   \n",
       "611                Jim Jordan  18313823  12945651       6113812  12/31/2020   \n",
       "121              Katie Porter  16627706   6443700      10267752  12/31/2020   \n",
       "561            Elise Stefanik  13287248  11655936       1983541  12/31/2020   \n",
       "\n",
       "     Incumbent  Winner Party State  District State_District  \n",
       "354       True    True     R    LA         1            LA1  \n",
       "80        True    True     R    CA        23           CA23  \n",
       "60        True    True     D    CA        12           CA12  \n",
       "78        True    True     R    CA        22           CA22  \n",
       "547       True    True     D    NY        14           NY14  \n",
       "732       True    True     R    TX         2            TX2  \n",
       "90        True    True     D    CA        28           CA28  \n",
       "611       True    True     R    OH         4            OH4  \n",
       "121       True    True     D    CA        45           CA45  \n",
       "561       True    True     R    NY        21           NY21  "
      ]
     },
     "execution_count": 19,
     "metadata": {},
     "output_type": "execute_result"
    }
   ],
   "source": [
    "# top 10 fund raisers\n",
    "open_secrets.sort_values('Raised', ascending = False).head(10)"
   ]
  },
  {
   "cell_type": "code",
   "execution_count": 4,
   "id": "7579f209",
   "metadata": {
    "slideshow": {
     "slide_type": "skip"
    }
   },
   "outputs": [],
   "source": [
    "open_secrets['State_District']=open_secrets['State'] + open_secrets['District'].astype(str)"
   ]
  },
  {
   "cell_type": "code",
   "execution_count": 5,
   "id": "16862a66",
   "metadata": {
    "slideshow": {
     "slide_type": "slide"
    }
   },
   "outputs": [
    {
     "data": {
      "text/plain": [
       "True     0.882759\n",
       "False    0.117241\n",
       "Name: Winner, dtype: float64"
      ]
     },
     "execution_count": 5,
     "metadata": {},
     "output_type": "execute_result"
    }
   ],
   "source": [
    "# a. How often does the candidate who raised more money win a race?\n",
    "df = pd.DataFrame(open_secrets.groupby('State_District')['Raised'].max()).reset_index()\n",
    "pd.merge(open_secrets, df, how = 'inner')['Winner'].value_counts(normalize = True)"
   ]
  },
  {
   "cell_type": "code",
   "execution_count": 6,
   "id": "77476527",
   "metadata": {
    "slideshow": {
     "slide_type": "slide"
    }
   },
   "outputs": [
    {
     "data": {
      "text/plain": [
       "True     0.875862\n",
       "False    0.124138\n",
       "Name: Winner, dtype: float64"
      ]
     },
     "execution_count": 6,
     "metadata": {},
     "output_type": "execute_result"
    }
   ],
   "source": [
    "# b. How often does the candidate who spent more money win a race?\n",
    "df = pd.DataFrame(open_secrets.groupby('State_District')['Spent'].max()).reset_index()\n",
    "pd.merge(open_secrets, df, how = 'inner')['Winner'].value_counts(normalize = True)"
   ]
  },
  {
   "cell_type": "code",
   "execution_count": 7,
   "id": "574aeb53",
   "metadata": {
    "slideshow": {
     "slide_type": "slide"
    }
   },
   "outputs": [
    {
     "data": {
      "text/plain": [
       "True     0.96114\n",
       "False    0.03886\n",
       "Name: Winner, dtype: float64"
      ]
     },
     "execution_count": 7,
     "metadata": {},
     "output_type": "execute_result"
    }
   ],
   "source": [
    " # d. How often does the incumbent candidate win a race?\n",
    "open_secrets[open_secrets['Incumbent']==True]['Winner'].value_counts(normalize = True)"
   ]
  },
  {
   "cell_type": "code",
   "execution_count": 8,
   "id": "ea5ff79a",
   "metadata": {
    "slideshow": {
     "slide_type": "slide"
    }
   },
   "outputs": [
    {
     "data": {
      "image/png": "[encoded data removed]",
      "text/plain": [
       "<Figure size 720x720 with 1 Axes>"
      ]
     },
     "metadata": {
      "needs_background": "light"
     },
     "output_type": "display_data"
    }
   ],
   "source": [
    "# e. Can you detect any relationship between amount of money raised and the incumbent status of a candidate?\n",
    "plt.figure(figsize = (10,10))\n",
    "sns.boxplot(x = 'Incumbent', y='Raised', data = open_secrets);"
   ]
  },
  {
   "cell_type": "code",
   "execution_count": 9,
   "id": "4cb7aa36",
   "metadata": {
    "slideshow": {
     "slide_type": "slide"
    }
   },
   "outputs": [
    {
     "data": {
      "text/plain": [
       "Party\n",
       "D    221\n",
       "R    210\n",
       "3      0\n",
       "I      0\n",
       "L      0\n",
       "Name: Winner, dtype: int64"
      ]
     },
     "execution_count": 9,
     "metadata": {},
     "output_type": "execute_result"
    }
   ],
   "source": [
    "# winners by party\n",
    "open_secrets.groupby('Party')['Winner'].sum().sort_values(ascending = False)"
   ]
  },
  {
   "cell_type": "code",
   "execution_count": 10,
   "id": "03e0e275",
   "metadata": {
    "slideshow": {
     "slide_type": "slide"
    }
   },
   "outputs": [
    {
     "data": {
      "image/png": "[encoded data removed]",
      "text/plain": [
       "<Figure size 432x288 with 1 Axes>"
      ]
     },
     "metadata": {
      "needs_background": "light"
     },
     "output_type": "display_data"
    }
   ],
   "source": [
    "# money raised by Party\n",
    "sns.boxplot(x='Party',y='Raised', data=open_secrets);"
   ]
  },
  {
   "cell_type": "code",
   "execution_count": 11,
   "id": "40c6458d",
   "metadata": {
    "slideshow": {
     "slide_type": "slide"
    }
   },
   "outputs": [
    {
     "data": {
      "text/plain": [
       "Party\n",
       "D    898391743\n",
       "R    762736206\n",
       "I      5854543\n",
       "3       616828\n",
       "L       250370\n",
       "Name: Raised, dtype: int64"
      ]
     },
     "execution_count": 11,
     "metadata": {},
     "output_type": "execute_result"
    }
   ],
   "source": [
    "# money raised by Party\n",
    "open_secrets.groupby('Party')['Raised'].sum().sort_values(ascending = False)"
   ]
  },
  {
   "cell_type": "markdown",
   "id": "1dbde685",
   "metadata": {
    "slideshow": {
     "slide_type": "skip"
    }
   },
   "source": [
    "## Bonus Questions:\n",
    "If you complete all of the above, you can attempt these challenging bonus questions.\n",
    "\n",
    "Open Secrets also gives a detailed breakdown of contributions by source. For example, for Tennessee's second district, this is located at https://www.opensecrets.org/races/candidates?cycle=2020&id=TN02&spec=N\n",
    "\n",
    "Scrape these pages to get information on contributions by source. See if you can find anything interesting in terms of the source of contributions. Some examples to get you started:\n",
    "\n",
    "What does the overall distribution of funding sources look like?\n",
    "Is there any detectable difference in contribution sources between Democrat and Republican candidates?\n",
    "Do the funding sources for either the winning candidate or incumbent candidate differ from the other candidates?"
   ]
  },
  {
   "cell_type": "code",
   "execution_count": 42,
   "id": "d1620682",
   "metadata": {
    "slideshow": {
     "slide_type": "skip"
    }
   },
   "outputs": [
    {
     "data": {
      "text/html": [
       "<div>\n",
       "<style scoped>\n",
       "    .dataframe tbody tr th:only-of-type {\n",
       "        vertical-align: middle;\n",
       "    }\n",
       "\n",
       "    .dataframe tbody tr th {\n",
       "        vertical-align: top;\n",
       "    }\n",
       "\n",
       "    .dataframe thead th {\n",
       "        text-align: right;\n",
       "    }\n",
       "</style>\n",
       "<table border=\"1\" class=\"dataframe\">\n",
       "  <thead>\n",
       "    <tr style=\"text-align: right;\">\n",
       "      <th></th>\n",
       "      <th>Type of Contribution</th>\n",
       "      <th>Amount</th>\n",
       "      <th>Percentage</th>\n",
       "    </tr>\n",
       "  </thead>\n",
       "  <tbody>\n",
       "    <tr>\n",
       "      <th>0</th>\n",
       "      <td>Small Individual Contributions (≤ $200)</td>\n",
       "      <td>$343,014</td>\n",
       "      <td>25.67%</td>\n",
       "    </tr>\n",
       "    <tr>\n",
       "      <th>1</th>\n",
       "      <td>Large Individual Contributions</td>\n",
       "      <td>$729,831</td>\n",
       "      <td>54.62%</td>\n",
       "    </tr>\n",
       "    <tr>\n",
       "      <th>2</th>\n",
       "      <td>PAC Contributions*</td>\n",
       "      <td>$269,535</td>\n",
       "      <td>20.17%</td>\n",
       "    </tr>\n",
       "    <tr>\n",
       "      <th>3</th>\n",
       "      <td>Candidate self-financing</td>\n",
       "      <td>$0</td>\n",
       "      <td>0.00%</td>\n",
       "    </tr>\n",
       "    <tr>\n",
       "      <th>4</th>\n",
       "      <td>Other</td>\n",
       "      <td>-$6,105</td>\n",
       "      <td>-0.46%</td>\n",
       "    </tr>\n",
       "  </tbody>\n",
       "</table>\n",
       "</div>"
      ],
      "text/plain": [
       "                      Type of Contribution    Amount Percentage\n",
       "0  Small Individual Contributions (≤ $200)  $343,014     25.67%\n",
       "1           Large Individual Contributions  $729,831     54.62%\n",
       "2                       PAC Contributions*  $269,535     20.17%\n",
       "3                 Candidate self-financing        $0      0.00%\n",
       "4                                    Other   -$6,105     -0.46%"
      ]
     },
     "execution_count": 42,
     "metadata": {},
     "output_type": "execute_result"
    }
   ],
   "source": [
    "# fetch the data from URL of TN02\n",
    "URL = 'https://www.opensecrets.org/races/candidates?cycle=2020&id=TN02&spec=N'\n",
    "response = requests.get(URL)\n",
    "soup = BS(response.text)\n",
    "funding_source = pd.read_html(str(soup.findAll('table')))[1]\n",
    "funding_source"
   ]
  },
  {
   "cell_type": "code",
   "execution_count": 47,
   "id": "3320c033",
   "metadata": {
    "slideshow": {
     "slide_type": "skip"
    }
   },
   "outputs": [
    {
     "data": {
      "text/html": [
       "<div>\n",
       "<style scoped>\n",
       "    .dataframe tbody tr th:only-of-type {\n",
       "        vertical-align: middle;\n",
       "    }\n",
       "\n",
       "    .dataframe tbody tr th {\n",
       "        vertical-align: top;\n",
       "    }\n",
       "\n",
       "    .dataframe thead th {\n",
       "        text-align: right;\n",
       "    }\n",
       "</style>\n",
       "<table border=\"1\" class=\"dataframe\">\n",
       "  <thead>\n",
       "    <tr style=\"text-align: right;\">\n",
       "      <th></th>\n",
       "      <th>Amount</th>\n",
       "      <th>Percentage</th>\n",
       "    </tr>\n",
       "    <tr>\n",
       "      <th>Type of Contribution</th>\n",
       "      <th></th>\n",
       "      <th></th>\n",
       "    </tr>\n",
       "  </thead>\n",
       "  <tbody>\n",
       "    <tr>\n",
       "      <th>Small Individual Contributions (≤ $200)</th>\n",
       "      <td>$343,014</td>\n",
       "      <td>25.67%</td>\n",
       "    </tr>\n",
       "    <tr>\n",
       "      <th>Large Individual Contributions</th>\n",
       "      <td>$729,831</td>\n",
       "      <td>54.62%</td>\n",
       "    </tr>\n",
       "    <tr>\n",
       "      <th>PAC Contributions*</th>\n",
       "      <td>$269,535</td>\n",
       "      <td>20.17%</td>\n",
       "    </tr>\n",
       "    <tr>\n",
       "      <th>Candidate self-financing</th>\n",
       "      <td>$0</td>\n",
       "      <td>0.00%</td>\n",
       "    </tr>\n",
       "    <tr>\n",
       "      <th>Other</th>\n",
       "      <td>-$6,105</td>\n",
       "      <td>-0.46%</td>\n",
       "    </tr>\n",
       "  </tbody>\n",
       "</table>\n",
       "</div>"
      ],
      "text/plain": [
       "                                           Amount Percentage\n",
       "Type of Contribution                                        \n",
       "Small Individual Contributions (≤ $200)  $343,014     25.67%\n",
       "Large Individual Contributions           $729,831     54.62%\n",
       "PAC Contributions*                       $269,535     20.17%\n",
       "Candidate self-financing                       $0      0.00%\n",
       "Other                                     -$6,105     -0.46%"
      ]
     },
     "execution_count": 47,
     "metadata": {},
     "output_type": "execute_result"
    }
   ],
   "source": [
    "funding_source.set_index('Type of Contribution')"
   ]
  },
  {
   "cell_type": "code",
   "execution_count": 44,
   "id": "a94a5fda",
   "metadata": {
    "slideshow": {
     "slide_type": "skip"
    }
   },
   "outputs": [
    {
     "data": {
      "text/plain": [
       "[<div class=\"Members\">\n",
       " <div class=\"Members--list\">\n",
       " <hr class=\"u-striped-rule u-mt2 u-mb2\"/>\n",
       " <div class=\"Members--list-item\">\n",
       " <div class=\"Members--bio u-richtext\">\n",
       " <h2><strong>\n",
       " <a href=\"/members-of-congress/tim-burchett/summary?cid=N00041594\">Tim Burchett (R) • <i>Incumbent</i></a>\n",
       "  • <span class=\"winner\"><i>Winner</i></span> </strong></h2>\n",
       " </div>\n",
       " <table border=\"0\" cellpadding=\"1\" cellspacing=\"0\" class=\"Members--table\">\n",
       " <tr>\n",
       " <td>Raised:</td>\n",
       " <td class=\"Members--number\">$1,336,276</td>\n",
       " <td width=\"33%\">\n",
       " <div class=\"Members--bar-wrapper\">\n",
       " <div class=\"Members--bar Members--bar-indivs\" style=\"width:100.0%;\"></div>\n",
       " </div>\n",
       " </td>\n",
       " </tr>\n",
       " <tr>\n",
       " <td>Spent:</td>\n",
       " <td class=\"Members--number\">$878,488</td>\n",
       " <td width=\"33%\">\n",
       " <div class=\"Members--bar-wrapper\">\n",
       " <div class=\"Members--bar Members--bar-indivs\" style=\"width:65.74149310125549%;\"></div>\n",
       " </div>\n",
       " </td>\n",
       " </tr>\n",
       " <tr>\n",
       " <td>Cash on Hand:</td>\n",
       " <td class=\"Members--number\">$593,678</td>\n",
       " <td width=\"33%\">\n",
       " <div class=\"Members--bar-wrapper\">\n",
       " <div class=\"Members--bar Members--bar-indivs\" style=\"width:44.4277852082551%;\"></div>\n",
       " </div>\n",
       " </td>\n",
       " </tr>\n",
       " </table>\n",
       " <div class=\"u-richtext\">\n",
       " <h3>Source of Funds</h3>\n",
       " <table>\n",
       " <thead>\n",
       " <tr>\n",
       " <th scope=\"col\">Type of Contribution</th>\n",
       " <th class=\"number\" scope=\"col\">Amount</th>\n",
       " <th class=\"number\" scope=\"col\">Percentage</th>\n",
       " </tr>\n",
       " </thead>\n",
       " <tbody>\n",
       " <tr>\n",
       " <td>Small Individual Contributions (≤ $200)</td>\n",
       " <td class=\"number\">$343,014</td>\n",
       " <td class=\"number\">25.67%</td>\n",
       " </tr>\n",
       " <tr>\n",
       " <td>Large Individual Contributions</td>\n",
       " <td class=\"number\">$729,831</td>\n",
       " <td class=\"number\">54.62%</td>\n",
       " </tr>\n",
       " <tr>\n",
       " <td>PAC Contributions*</td>\n",
       " <td class=\"number\">$269,535</td>\n",
       " <td class=\"number\">20.17%</td>\n",
       " </tr>\n",
       " <tr>\n",
       " <td>Candidate self-financing</td>\n",
       " <td class=\"number\">$0</td>\n",
       " <td class=\"number\">0.00%</td>\n",
       " </tr>\n",
       " <tr>\n",
       " <td>Other</td>\n",
       " <td class=\"number\">-$6,105</td>\n",
       " <td class=\"number\">-0.46%</td>\n",
       " </tr>\n",
       " </tbody>\n",
       " </table>\n",
       " <h3>Quality of Disclosure</h3>\n",
       " <table>\n",
       " <thead>\n",
       " <tr>\n",
       " <th scope=\"col\">Type of Disclosure</th>\n",
       " <th class=\"number\" scope=\"col\">Amount</th>\n",
       " <th class=\"number\" scope=\"col\">Percentage</th>\n",
       " </tr>\n",
       " </thead>\n",
       " <tbody>\n",
       " <tr>\n",
       " <td nowrap=\"\">Full Disclosure</td>\n",
       " <td class=\"number\">$708,346</td>\n",
       " <td class=\"number\">99.09%</td>\n",
       " </tr>\n",
       " <tr>\n",
       " <td nowrap=\"\">Incomplete Disclosure</td>\n",
       " <td class=\"number\">$5,250</td>\n",
       " <td class=\"number\">0.73%</td>\n",
       " </tr>\n",
       " <tr>\n",
       " <td nowrap=\"\">No Disclosure</td>\n",
       " <td class=\"number\">$1,250</td>\n",
       " <td class=\"number\">0.17%</td>\n",
       " </tr>\n",
       " </tbody>\n",
       " </table>\n",
       " </div>\n",
       " </div>\n",
       " <hr class=\"u-striped-rule u-mt2 u-mb2\"/>\n",
       " <div class=\"Members--list-item\">\n",
       " <div class=\"Members--bio u-richtext\">\n",
       " <h2><strong>\n",
       " \t\t\t\t\t\t\t\t\t\tRenee Hoyos (D)\n",
       " \t\t\t\t\t\t\t\t</strong></h2>\n",
       " </div>\n",
       " <table border=\"0\" cellpadding=\"1\" cellspacing=\"0\" class=\"Members--table\">\n",
       " <tr>\n",
       " <td>Raised:</td>\n",
       " <td class=\"Members--number\">$812,784</td>\n",
       " <td width=\"33%\">\n",
       " <div class=\"Members--bar-wrapper\">\n",
       " <div class=\"Members--bar Members--bar-indivs\" style=\"width:60.82456109826134%;\"></div>\n",
       " </div>\n",
       " </td>\n",
       " </tr>\n",
       " <tr>\n",
       " <td>Spent:</td>\n",
       " <td class=\"Members--number\">$816,793</td>\n",
       " <td width=\"33%\">\n",
       " <div class=\"Members--bar-wrapper\">\n",
       " <div class=\"Members--bar Members--bar-indivs\" style=\"width:61.1245957280898%;\"></div>\n",
       " </div>\n",
       " </td>\n",
       " </tr>\n",
       " <tr>\n",
       " <td>Cash on Hand:</td>\n",
       " <td class=\"Members--number\">$210</td>\n",
       " <td width=\"33%\">\n",
       " <div class=\"Members--bar-wrapper\">\n",
       " <div class=\"Members--bar Members--bar-indivs\" style=\"width:0.01570184896343438%;\"></div>\n",
       " </div>\n",
       " </td>\n",
       " </tr>\n",
       " </table>\n",
       " <div class=\"u-richtext\">\n",
       " <h3>Source of Funds</h3>\n",
       " <table>\n",
       " <thead>\n",
       " <tr>\n",
       " <th scope=\"col\">Type of Contribution</th>\n",
       " <th class=\"number\" scope=\"col\">Amount</th>\n",
       " <th class=\"number\" scope=\"col\">Percentage</th>\n",
       " </tr>\n",
       " </thead>\n",
       " <tbody>\n",
       " <tr>\n",
       " <td>Small Individual Contributions (≤ $200)</td>\n",
       " <td class=\"number\">$0</td>\n",
       " <td class=\"number\">0.00%</td>\n",
       " </tr>\n",
       " <tr>\n",
       " <td>Large Individual Contributions</td>\n",
       " <td class=\"number\">$807,459</td>\n",
       " <td class=\"number\">99.34%</td>\n",
       " </tr>\n",
       " <tr>\n",
       " <td>PAC Contributions*</td>\n",
       " <td class=\"number\">$3,100</td>\n",
       " <td class=\"number\">0.38%</td>\n",
       " </tr>\n",
       " <tr>\n",
       " <td>Candidate self-financing</td>\n",
       " <td class=\"number\">$0</td>\n",
       " <td class=\"number\">0.00%</td>\n",
       " </tr>\n",
       " <tr>\n",
       " <td>Other</td>\n",
       " <td class=\"number\">$2,225</td>\n",
       " <td class=\"number\">0.27%</td>\n",
       " </tr>\n",
       " </tbody>\n",
       " </table>\n",
       " <h3>Quality of Disclosure</h3>\n",
       " <table>\n",
       " <thead>\n",
       " <tr>\n",
       " <th scope=\"col\">Type of Disclosure</th>\n",
       " <th class=\"number\" scope=\"col\">Amount</th>\n",
       " <th class=\"number\" scope=\"col\">Percentage</th>\n",
       " </tr>\n",
       " </thead>\n",
       " <tbody>\n",
       " <tr>\n",
       " <td nowrap=\"\">Full Disclosure</td>\n",
       " <td class=\"number\">$621,145</td>\n",
       " <td class=\"number\">92.72%</td>\n",
       " </tr>\n",
       " <tr>\n",
       " <td nowrap=\"\">Incomplete Disclosure</td>\n",
       " <td class=\"number\">$3,710</td>\n",
       " <td class=\"number\">0.55%</td>\n",
       " </tr>\n",
       " <tr>\n",
       " <td nowrap=\"\">No Disclosure</td>\n",
       " <td class=\"number\">$45,081</td>\n",
       " <td class=\"number\">6.73%</td>\n",
       " </tr>\n",
       " </tbody>\n",
       " </table>\n",
       " </div>\n",
       " </div>\n",
       " </div>\n",
       " </div>]"
      ]
     },
     "execution_count": 44,
     "metadata": {},
     "output_type": "execute_result"
    }
   ],
   "source": [
    "soup.findAll('div', attrs = {'class':'Members'})"
   ]
  },
  {
   "cell_type": "code",
   "execution_count": null,
   "id": "ab60722b",
   "metadata": {
    "slideshow": {
     "slide_type": "skip"
    }
   },
   "outputs": [],
   "source": []
  }
 ],
 "metadata": {
  "celltoolbar": "Slideshow",
  "kernelspec": {
   "display_name": "Python 3",
   "language": "python",
   "name": "python3"
  },
  "language_info": {
   "codemirror_mode": {
    "name": "ipython",
    "version": 3
   },
   "file_extension": ".py",
   "mimetype": "text/x-python",
   "name": "python",
   "nbconvert_exporter": "python",
   "pygments_lexer": "ipython3",
   "version": "3.7.1"
  }
 },
 "nbformat": 4,
 "nbformat_minor": 5
}
