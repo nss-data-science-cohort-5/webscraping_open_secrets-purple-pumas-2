{
 "cells": [
  {
   "cell_type": "code",
   "execution_count": 24,
   "id": "11c6a849",
   "metadata": {},
   "outputs": [],
   "source": [
    "import requests\n",
    "import pandas as pd\n",
    "from bs4 import BeautifulSoup as BS\n",
    "from IPython.core.display import HTML\n",
    "import re"
   ]
  },
  {
   "cell_type": "markdown",
   "id": "c059f051",
   "metadata": {},
   "source": [
    "1. Start by scraping the data from the summary page for Tennessee's 2nd District, which is available at https://www.opensecrets.org/races/summary?cycle=2020&id=TN02&spec=N.\n",
    "    * The data that we want is contained in the \"Total Raised and Spent\" table.\n",
    "    * Make a DataFrame showing, for each candidate:\n",
    "        * the candidate's name\n",
    "        * the candidate's party\n",
    "        * state\n",
    "        * district number\n",
    "        * whether the candidate was an incumbent\n",
    "        * whether the candidate won the race\n",
    "        * the total amount raised by that candidate (as a numeric variable)\n",
    "        * the total amount spent by the candidate (as a numeric variable)"
   ]
  },
  {
   "cell_type": "code",
   "execution_count": 35,
   "id": "f664a2a3",
   "metadata": {},
   "outputs": [],
   "source": [
    "URL = 'https://www.opensecrets.org/races/summary?cycle=2020&id=TN02&spec=N.'\n",
    "\n",
    "tn2nd = requests.get(URL)\n",
    "\n",
    "tn2ndsoup = BS(tn2nd.text)\n",
    "\n",
    "tn2nd_table = tn2ndsoup.find('table', attrs={'class' : 'DataTable'})\n",
    "\n",
    "tn2nd_df = (pd.read_html(str(tn2ndsoup.find('table', attrs={'class' : 'DataTable'}))))[0]\n",
    "#I'm trying to figure out how to get the district number and state into this dataframe. "
   ]
  },
  {
   "cell_type": "code",
   "execution_count": 69,
   "id": "f3b56d16",
   "metadata": {},
   "outputs": [
    {
     "data": {
      "text/plain": [
       "['2020', 'TN02']"
      ]
     },
     "execution_count": 69,
     "metadata": {},
     "output_type": "execute_result"
    }
   ],
   "source": [
    "#tn2nd_df['state'] =\n",
    "re.findall(r\"\\w{2}\\d{2}\", URL)\n",
    "#tn2nd_df['district'] = "
   ]
  },
  {
   "cell_type": "code",
   "execution_count": 37,
   "id": "2f0cb901",
   "metadata": {},
   "outputs": [
    {
     "data": {
      "text/plain": [
       "pandas.core.frame.DataFrame"
      ]
     },
     "execution_count": 37,
     "metadata": {},
     "output_type": "execute_result"
    }
   ],
   "source": [
    "type(tn2nd_df)"
   ]
  },
  {
   "cell_type": "code",
   "execution_count": 38,
   "id": "d84da2c3",
   "metadata": {},
   "outputs": [
    {
     "name": "stdout",
     "output_type": "stream",
     "text": [
      "<class 'pandas.core.frame.DataFrame'>\n",
      "RangeIndex: 2 entries, 0 to 1\n",
      "Data columns (total 5 columns):\n",
      " #   Column        Non-Null Count  Dtype \n",
      "---  ------        --------------  ----- \n",
      " 0   Candidate     2 non-null      object\n",
      " 1   Raised        2 non-null      object\n",
      " 2   Spent         2 non-null      object\n",
      " 3   Cash on Hand  2 non-null      object\n",
      " 4   Last Report   2 non-null      object\n",
      "dtypes: object(5)\n",
      "memory usage: 208.0+ bytes\n"
     ]
    }
   ],
   "source": [
    "tn2nd_df.info()"
   ]
  },
  {
   "cell_type": "code",
   "execution_count": 23,
   "id": "c395a4a9",
   "metadata": {},
   "outputs": [
    {
     "data": {
      "text/plain": [
       "str"
      ]
     },
     "execution_count": 23,
     "metadata": {},
     "output_type": "execute_result"
    }
   ],
   "source": [
    "type(URL)"
   ]
  },
  {
   "cell_type": "code",
   "execution_count": null,
   "id": "4d10f848",
   "metadata": {},
   "outputs": [],
   "source": [
    "https://www.opensecrets.org/races/summary?cycle=2020&id=TN01&spec=N\n",
    "https://www.opensecrets.org/races/summary?cycle=2020&id=TN02&spec=N\n",
    "https://www.opensecrets.org/races/summary?cycle=2020&id=TN03&spec=N\n",
    "\n",
    "https://www.opensecrets.org/races/summary?cycle=2020&id={'state'}{'district'}&spec=N\n",
    "    "
   ]
  },
  {
   "cell_type": "code",
   "execution_count": null,
   "id": "93fe327e",
   "metadata": {},
   "outputs": [],
   "source": [
    "\n",
    "#includes DC so there are 51.\n",
    "district = \n",
    "#{n,m}? Quantifier\n",
    "\n",
    "States_districts= 'https://www.opensecrets.org/races/summary?cycle=2020&id={}{}&spec=N'.format(state, district)\n",
    "\n",
    "\n",
    "States_districts_dict = {'state': states, 'district': {1,53}} \n",
    "#google python zfill \n",
    "s.str.zfill(3)"
   ]
  },
  {
   "cell_type": "code",
   "execution_count": 53,
   "id": "90e4b944",
   "metadata": {},
   "outputs": [],
   "source": [
    "#https://gist.github.com/JeffPaine/3083347 I didn't want to type all this out\n",
    "states = [\"AL\", \"AK\", \"AZ\", \"AR\", \"CA\", \"CO\", \"CT\", \"DC\", \"DE\", \"FL\", \"GA\", \n",
    "          \"HI\", \"ID\", \"IL\", \"IN\", \"IA\", \"KS\", \"KY\", \"LA\", \"ME\", \"MD\", \n",
    "          \"MA\", \"MI\", \"MN\", \"MS\", \"MO\", \"MT\", \"NE\", \"NV\", \"NH\", \"NJ\", \n",
    "          \"NM\", \"NY\", \"NC\", \"ND\", \"OH\", \"OK\", \"OR\", \"PA\", \"RI\", \"SC\", \n",
    "          \"SD\", \"TN\", \"TX\", \"UT\", \"VT\", \"VA\", \"WA\", \"WV\", \"WI\", \"WY\"]"
   ]
  },
  {
   "cell_type": "code",
   "execution_count": null,
   "id": "2f0c9d62",
   "metadata": {},
   "outputs": [],
   "source": [
    "\n"
   ]
  },
  {
   "cell_type": "code",
   "execution_count": null,
   "id": "e2ba16c1",
   "metadata": {},
   "outputs": [],
   "source": []
  }
 ],
 "metadata": {
  "kernelspec": {
   "display_name": "Python 3",
   "language": "python",
   "name": "python3"
  },
  "language_info": {
   "codemirror_mode": {
    "name": "ipython",
    "version": 3
   },
   "file_extension": ".py",
   "mimetype": "text/x-python",
   "name": "python",
   "nbconvert_exporter": "python",
   "pygments_lexer": "ipython3",
   "version": "3.8.8"
  }
 },
 "nbformat": 4,
 "nbformat_minor": 5
}
