{
 "cells": [
  {
   "cell_type": "code",
   "execution_count": 1,
   "id": "11c6a849",
   "metadata": {},
   "outputs": [],
   "source": [
    "import requests\n",
    "import pandas as pd\n",
    "from bs4 import BeautifulSoup as BS\n",
    "from IPython.core.display import HTML\n",
    "import re"
   ]
  },
  {
   "cell_type": "markdown",
   "id": "c059f051",
   "metadata": {},
   "source": [
    "1. Start by scraping the data from the summary page for Tennessee's 2nd District, which is available at https://www.opensecrets.org/races/summary?cycle=2020&id=TN02&spec=N.\n",
    "    * The data that we want is contained in the \"Total Raised and Spent\" table.\n",
    "    * Make a DataFrame showing, for each candidate:\n",
    "        * the candidate's name\n",
    "        * the candidate's party\n",
    "        * state\n",
    "        * district number\n",
    "        * whether the candidate was an incumbent\n",
    "        * whether the candidate won the race\n",
    "        * the total amount raised by that candidate (as a numeric variable)\n",
    "        * the total amount spent by the candidate (as a numeric variable)"
   ]
  },
  {
   "cell_type": "code",
   "execution_count": 10,
   "id": "e2ba16c1",
   "metadata": {
    "scrolled": true
   },
   "outputs": [
    {
     "name": "stderr",
     "output_type": "stream",
     "text": [
      "<ipython-input-10-24ce81f1f3d1>:37: FutureWarning: The default value of regex will change from True to False in a future version.\n",
      "  tn2nd_df['Raised'] = tn2nd_df['Raised'].str.replace('\\W', '')\n",
      "<ipython-input-10-24ce81f1f3d1>:38: FutureWarning: The default value of regex will change from True to False in a future version.\n",
      "  tn2nd_df['Spent'] = tn2nd_df['Spent'].str.replace('\\W', '')\n",
      "<ipython-input-10-24ce81f1f3d1>:39: FutureWarning: The default value of regex will change from True to False in a future version.\n",
      "  tn2nd_df['Cash on Hand'] = tn2nd_df['Cash on Hand'].str.replace('\\W', '')\n"
     ]
    },
    {
     "data": {
      "text/html": [
       "<div>\n",
       "<style scoped>\n",
       "    .dataframe tbody tr th:only-of-type {\n",
       "        vertical-align: middle;\n",
       "    }\n",
       "\n",
       "    .dataframe tbody tr th {\n",
       "        vertical-align: top;\n",
       "    }\n",
       "\n",
       "    .dataframe thead th {\n",
       "        text-align: right;\n",
       "    }\n",
       "</style>\n",
       "<table border=\"1\" class=\"dataframe\">\n",
       "  <thead>\n",
       "    <tr style=\"text-align: right;\">\n",
       "      <th></th>\n",
       "      <th>Candidate_name</th>\n",
       "      <th>Party</th>\n",
       "      <th>Incumbent</th>\n",
       "      <th>Winner</th>\n",
       "      <th>Raised</th>\n",
       "      <th>Spent</th>\n",
       "      <th>Cash on Hand</th>\n",
       "    </tr>\n",
       "  </thead>\n",
       "  <tbody>\n",
       "    <tr>\n",
       "      <th>0</th>\n",
       "      <td>Tim Burchett</td>\n",
       "      <td>(R)</td>\n",
       "      <td>True</td>\n",
       "      <td>True</td>\n",
       "      <td>1336276</td>\n",
       "      <td>878488</td>\n",
       "      <td>593678</td>\n",
       "    </tr>\n",
       "    <tr>\n",
       "      <th>1</th>\n",
       "      <td>Renee Hoyos</td>\n",
       "      <td>(D)</td>\n",
       "      <td>False</td>\n",
       "      <td>False</td>\n",
       "      <td>812784</td>\n",
       "      <td>816793</td>\n",
       "      <td>210</td>\n",
       "    </tr>\n",
       "  </tbody>\n",
       "</table>\n",
       "</div>"
      ],
      "text/plain": [
       "  Candidate_name Party  Incumbent  Winner   Raised   Spent  Cash on Hand\n",
       "0   Tim Burchett   (R)       True    True  1336276  878488        593678\n",
       "1    Renee Hoyos   (D)      False   False   812784  816793           210"
      ]
     },
     "execution_count": 10,
     "metadata": {},
     "output_type": "execute_result"
    }
   ],
   "source": [
    "URL = 'https://www.opensecrets.org/races/summary?cycle=2020&id=TN02&spec=N.'\n",
    "\n",
    "tn2nd = requests.get(URL)\n",
    "\n",
    "tn2ndsoup = BS(tn2nd.text)\n",
    "\n",
    "tn2nd_table = tn2ndsoup.find('table', attrs={'class' : 'DataTable'})\n",
    "\n",
    "tn2nd_df = (pd.read_html(str(tn2ndsoup.find('table', attrs={'class' : 'DataTable'}))))[0]\n",
    "\n",
    "\n",
    "\n",
    "#regex for candidate, incumbent, party, and winner\n",
    "candidate = r\"(\\w+\\s\\w+)\"\n",
    "incumbent = \"Incumbent\"\n",
    "party = r\"(\\W\\w\\W)\"\n",
    "winner = \"Winner\"\n",
    "\n",
    "#create dictionaries for columns with multiple info in them (candidate name has party, and  )\n",
    "columns_extract= {'Candidate_name': candidate,'Party':party}\n",
    "columns_contains = {'Incumbent':incumbent, 'Winner':winner}\n",
    "\n",
    "#creates columns for party, incumbent, and winner and extracts the info from the candidate column\n",
    "for key, value in columns_extract.items():\n",
    "    tn2nd_df[key] = tn2nd_df['Candidate'].str.extract(value, expand=True)\n",
    "    for key, value in columns_contains.items():\n",
    "        tn2nd_df[key] = tn2nd_df['Candidate'].str.contains(value)\n",
    "\n",
    "tn2nd_df = tn2nd_df[['Candidate_name', \n",
    "                                     'Party', \n",
    "                                     'Incumbent', \n",
    "                                     'Winner', \n",
    "                                     'Raised', \n",
    "                                     'Spent', \n",
    "                                     'Cash on Hand']]\n",
    "#convert object types to int\n",
    "tn2nd_df['Raised'] = tn2nd_df['Raised'].str.replace('\\W', '')\n",
    "tn2nd_df['Spent'] = tn2nd_df['Spent'].str.replace('\\W', '')\n",
    "tn2nd_df['Cash on Hand'] = tn2nd_df['Cash on Hand'].str.replace('\\W', '')\n",
    "tn2nd_df['Raised'] = tn2nd_df['Raised'].astype(int)\n",
    "tn2nd_df['Spent'] = tn2nd_df['Spent'].astype(int)\n",
    "tn2nd_df['Cash on Hand'] = tn2nd_df['Cash on Hand'].astype(int)\n",
    "\n",
    "tn2nd_df"
   ]
  }
 ],
 "metadata": {
  "kernelspec": {
   "display_name": "Python 3",
   "language": "python",
   "name": "python3"
  },
  "language_info": {
   "codemirror_mode": {
    "name": "ipython",
    "version": 3
   },
   "file_extension": ".py",
   "mimetype": "text/x-python",
   "name": "python",
   "nbconvert_exporter": "python",
   "pygments_lexer": "ipython3",
   "version": "3.8.8"
  }
 },
 "nbformat": 4,
 "nbformat_minor": 5
}
